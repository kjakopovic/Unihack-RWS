{
 "cells": [
  {
   "cell_type": "code",
   "execution_count": 2,
   "metadata": {},
   "outputs": [
    {
     "name": "stdout",
     "output_type": "stream",
     "text": [
      "Requirement already satisfied: pandas in c:\\compilers\\python\\lib\\site-packages (2.2.2)Note: you may need to restart the kernel to use updated packages.\n"
     ]
    },
    {
     "name": "stderr",
     "output_type": "stream",
     "text": [
      "\n",
      "[notice] A new release of pip is available: 24.2 -> 24.3.1\n",
      "[notice] To update, run: python.exe -m pip install --upgrade pip\n"
     ]
    },
    {
     "name": "stdout",
     "output_type": "stream",
     "text": [
      "\n",
      "Requirement already satisfied: numpy in c:\\compilers\\python\\lib\\site-packages (1.26.4)\n",
      "Requirement already satisfied: scikit-learn in c:\\compilers\\python\\lib\\site-packages (1.5.1)\n",
      "Requirement already satisfied: scikit-image in c:\\compilers\\python\\lib\\site-packages (0.24.0)\n",
      "Requirement already satisfied: matplotlib in c:\\compilers\\python\\lib\\site-packages (3.9.1)\n",
      "Requirement already satisfied: tensorflow in c:\\compilers\\python\\lib\\site-packages (2.17.0)\n",
      "Requirement already satisfied: torch in c:\\compilers\\python\\lib\\site-packages (2.3.1)\n",
      "Requirement already satisfied: torchvision in c:\\compilers\\python\\lib\\site-packages (0.18.1)\n",
      "Requirement already satisfied: ultralytics in c:\\compilers\\python\\lib\\site-packages (8.2.63)\n",
      "Requirement already satisfied: python-dateutil>=2.8.2 in c:\\users\\dini\\appdata\\roaming\\python\\python312\\site-packages (from pandas) (2.9.0.post0)\n",
      "Requirement already satisfied: pytz>=2020.1 in c:\\compilers\\python\\lib\\site-packages (from pandas) (2024.1)\n",
      "Requirement already satisfied: tzdata>=2022.7 in c:\\compilers\\python\\lib\\site-packages (from pandas) (2024.1)\n",
      "Requirement already satisfied: scipy>=1.6.0 in c:\\compilers\\python\\lib\\site-packages (from scikit-learn) (1.14.0)\n",
      "Requirement already satisfied: joblib>=1.2.0 in c:\\compilers\\python\\lib\\site-packages (from scikit-learn) (1.4.2)\n",
      "Requirement already satisfied: threadpoolctl>=3.1.0 in c:\\compilers\\python\\lib\\site-packages (from scikit-learn) (3.5.0)\n",
      "Requirement already satisfied: networkx>=2.8 in c:\\compilers\\python\\lib\\site-packages (from scikit-image) (3.3)\n",
      "Requirement already satisfied: pillow>=9.1 in c:\\compilers\\python\\lib\\site-packages (from scikit-image) (10.4.0)\n",
      "Requirement already satisfied: imageio>=2.33 in c:\\compilers\\python\\lib\\site-packages (from scikit-image) (2.34.2)\n",
      "Requirement already satisfied: tifffile>=2022.8.12 in c:\\compilers\\python\\lib\\site-packages (from scikit-image) (2024.7.21)\n",
      "Requirement already satisfied: packaging>=21 in c:\\users\\dini\\appdata\\roaming\\python\\python312\\site-packages (from scikit-image) (24.1)\n",
      "Requirement already satisfied: lazy-loader>=0.4 in c:\\compilers\\python\\lib\\site-packages (from scikit-image) (0.4)\n",
      "Requirement already satisfied: contourpy>=1.0.1 in c:\\compilers\\python\\lib\\site-packages (from matplotlib) (1.2.1)\n",
      "Requirement already satisfied: cycler>=0.10 in c:\\compilers\\python\\lib\\site-packages (from matplotlib) (0.12.1)\n",
      "Requirement already satisfied: fonttools>=4.22.0 in c:\\compilers\\python\\lib\\site-packages (from matplotlib) (4.53.1)\n",
      "Requirement already satisfied: kiwisolver>=1.3.1 in c:\\compilers\\python\\lib\\site-packages (from matplotlib) (1.4.5)\n",
      "Requirement already satisfied: pyparsing>=2.3.1 in c:\\compilers\\python\\lib\\site-packages (from matplotlib) (3.1.2)\n",
      "Requirement already satisfied: tensorflow-intel==2.17.0 in c:\\compilers\\python\\lib\\site-packages (from tensorflow) (2.17.0)\n",
      "Requirement already satisfied: absl-py>=1.0.0 in c:\\compilers\\python\\lib\\site-packages (from tensorflow-intel==2.17.0->tensorflow) (2.1.0)\n",
      "Requirement already satisfied: astunparse>=1.6.0 in c:\\compilers\\python\\lib\\site-packages (from tensorflow-intel==2.17.0->tensorflow) (1.6.3)\n",
      "Requirement already satisfied: flatbuffers>=24.3.25 in c:\\compilers\\python\\lib\\site-packages (from tensorflow-intel==2.17.0->tensorflow) (24.3.25)\n",
      "Requirement already satisfied: gast!=0.5.0,!=0.5.1,!=0.5.2,>=0.2.1 in c:\\compilers\\python\\lib\\site-packages (from tensorflow-intel==2.17.0->tensorflow) (0.6.0)\n",
      "Requirement already satisfied: google-pasta>=0.1.1 in c:\\compilers\\python\\lib\\site-packages (from tensorflow-intel==2.17.0->tensorflow) (0.2.0)\n",
      "Requirement already satisfied: h5py>=3.10.0 in c:\\compilers\\python\\lib\\site-packages (from tensorflow-intel==2.17.0->tensorflow) (3.11.0)\n",
      "Requirement already satisfied: libclang>=13.0.0 in c:\\compilers\\python\\lib\\site-packages (from tensorflow-intel==2.17.0->tensorflow) (18.1.1)\n",
      "Requirement already satisfied: ml-dtypes<0.5.0,>=0.3.1 in c:\\compilers\\python\\lib\\site-packages (from tensorflow-intel==2.17.0->tensorflow) (0.4.0)\n",
      "Requirement already satisfied: opt-einsum>=2.3.2 in c:\\compilers\\python\\lib\\site-packages (from tensorflow-intel==2.17.0->tensorflow) (3.3.0)\n",
      "Requirement already satisfied: protobuf!=4.21.0,!=4.21.1,!=4.21.2,!=4.21.3,!=4.21.4,!=4.21.5,<5.0.0dev,>=3.20.3 in c:\\compilers\\python\\lib\\site-packages (from tensorflow-intel==2.17.0->tensorflow) (4.25.3)\n",
      "Requirement already satisfied: requests<3,>=2.21.0 in c:\\compilers\\python\\lib\\site-packages (from tensorflow-intel==2.17.0->tensorflow) (2.32.3)\n",
      "Requirement already satisfied: setuptools in c:\\compilers\\python\\lib\\site-packages (from tensorflow-intel==2.17.0->tensorflow) (71.0.4)\n",
      "Requirement already satisfied: six>=1.12.0 in c:\\users\\dini\\appdata\\roaming\\python\\python312\\site-packages (from tensorflow-intel==2.17.0->tensorflow) (1.16.0)\n",
      "Requirement already satisfied: termcolor>=1.1.0 in c:\\compilers\\python\\lib\\site-packages (from tensorflow-intel==2.17.0->tensorflow) (2.4.0)\n",
      "Requirement already satisfied: typing-extensions>=3.6.6 in c:\\compilers\\python\\lib\\site-packages (from tensorflow-intel==2.17.0->tensorflow) (4.12.2)\n",
      "Requirement already satisfied: wrapt>=1.11.0 in c:\\compilers\\python\\lib\\site-packages (from tensorflow-intel==2.17.0->tensorflow) (1.16.0)\n",
      "Requirement already satisfied: grpcio<2.0,>=1.24.3 in c:\\compilers\\python\\lib\\site-packages (from tensorflow-intel==2.17.0->tensorflow) (1.65.1)\n",
      "Requirement already satisfied: tensorboard<2.18,>=2.17 in c:\\compilers\\python\\lib\\site-packages (from tensorflow-intel==2.17.0->tensorflow) (2.17.0)\n",
      "Requirement already satisfied: keras>=3.2.0 in c:\\compilers\\python\\lib\\site-packages (from tensorflow-intel==2.17.0->tensorflow) (3.4.1)\n",
      "Requirement already satisfied: filelock in c:\\compilers\\python\\lib\\site-packages (from torch) (3.15.4)\n",
      "Requirement already satisfied: sympy in c:\\compilers\\python\\lib\\site-packages (from torch) (1.13.1)\n",
      "Requirement already satisfied: jinja2 in c:\\compilers\\python\\lib\\site-packages (from torch) (3.1.4)\n",
      "Requirement already satisfied: fsspec in c:\\compilers\\python\\lib\\site-packages (from torch) (2024.6.1)\n",
      "Requirement already satisfied: mkl<=2021.4.0,>=2021.1.1 in c:\\compilers\\python\\lib\\site-packages (from torch) (2021.4.0)\n",
      "Requirement already satisfied: opencv-python>=4.6.0 in c:\\compilers\\python\\lib\\site-packages (from ultralytics) (4.10.0.84)\n",
      "Requirement already satisfied: pyyaml>=5.3.1 in c:\\compilers\\python\\lib\\site-packages (from ultralytics) (6.0.1)\n",
      "Requirement already satisfied: tqdm>=4.64.0 in c:\\compilers\\python\\lib\\site-packages (from ultralytics) (4.66.4)\n",
      "Requirement already satisfied: psutil in c:\\users\\dini\\appdata\\roaming\\python\\python312\\site-packages (from ultralytics) (6.0.0)\n",
      "Requirement already satisfied: py-cpuinfo in c:\\compilers\\python\\lib\\site-packages (from ultralytics) (9.0.0)\n",
      "Requirement already satisfied: seaborn>=0.11.0 in c:\\compilers\\python\\lib\\site-packages (from ultralytics) (0.13.2)\n",
      "Requirement already satisfied: ultralytics-thop>=2.0.0 in c:\\compilers\\python\\lib\\site-packages (from ultralytics) (2.0.0)\n",
      "Requirement already satisfied: intel-openmp==2021.* in c:\\compilers\\python\\lib\\site-packages (from mkl<=2021.4.0,>=2021.1.1->torch) (2021.4.0)\n",
      "Requirement already satisfied: tbb==2021.* in c:\\compilers\\python\\lib\\site-packages (from mkl<=2021.4.0,>=2021.1.1->torch) (2021.13.0)\n",
      "Requirement already satisfied: charset-normalizer<4,>=2 in c:\\compilers\\python\\lib\\site-packages (from requests<3,>=2.21.0->tensorflow-intel==2.17.0->tensorflow) (3.3.2)\n",
      "Requirement already satisfied: idna<4,>=2.5 in c:\\compilers\\python\\lib\\site-packages (from requests<3,>=2.21.0->tensorflow-intel==2.17.0->tensorflow) (3.7)\n",
      "Requirement already satisfied: urllib3<3,>=1.21.1 in c:\\compilers\\python\\lib\\site-packages (from requests<3,>=2.21.0->tensorflow-intel==2.17.0->tensorflow) (2.2.2)\n",
      "Requirement already satisfied: certifi>=2017.4.17 in c:\\compilers\\python\\lib\\site-packages (from requests<3,>=2.21.0->tensorflow-intel==2.17.0->tensorflow) (2024.7.4)\n",
      "Requirement already satisfied: colorama in c:\\users\\dini\\appdata\\roaming\\python\\python312\\site-packages (from tqdm>=4.64.0->ultralytics) (0.4.6)\n",
      "Requirement already satisfied: MarkupSafe>=2.0 in c:\\compilers\\python\\lib\\site-packages (from jinja2->torch) (2.1.5)\n",
      "Requirement already satisfied: mpmath<1.4,>=1.1.0 in c:\\compilers\\python\\lib\\site-packages (from sympy->torch) (1.3.0)\n",
      "Requirement already satisfied: wheel<1.0,>=0.23.0 in c:\\compilers\\python\\lib\\site-packages (from astunparse>=1.6.0->tensorflow-intel==2.17.0->tensorflow) (0.43.0)\n",
      "Requirement already satisfied: rich in c:\\compilers\\python\\lib\\site-packages (from keras>=3.2.0->tensorflow-intel==2.17.0->tensorflow) (13.7.1)\n",
      "Requirement already satisfied: namex in c:\\compilers\\python\\lib\\site-packages (from keras>=3.2.0->tensorflow-intel==2.17.0->tensorflow) (0.0.8)\n",
      "Requirement already satisfied: optree in c:\\compilers\\python\\lib\\site-packages (from keras>=3.2.0->tensorflow-intel==2.17.0->tensorflow) (0.12.1)\n",
      "Requirement already satisfied: markdown>=2.6.8 in c:\\compilers\\python\\lib\\site-packages (from tensorboard<2.18,>=2.17->tensorflow-intel==2.17.0->tensorflow) (3.6)\n",
      "Requirement already satisfied: tensorboard-data-server<0.8.0,>=0.7.0 in c:\\compilers\\python\\lib\\site-packages (from tensorboard<2.18,>=2.17->tensorflow-intel==2.17.0->tensorflow) (0.7.2)\n",
      "Requirement already satisfied: werkzeug>=1.0.1 in c:\\compilers\\python\\lib\\site-packages (from tensorboard<2.18,>=2.17->tensorflow-intel==2.17.0->tensorflow) (3.0.3)\n",
      "Requirement already satisfied: markdown-it-py>=2.2.0 in c:\\compilers\\python\\lib\\site-packages (from rich->keras>=3.2.0->tensorflow-intel==2.17.0->tensorflow) (3.0.0)\n",
      "Requirement already satisfied: pygments<3.0.0,>=2.13.0 in c:\\users\\dini\\appdata\\roaming\\python\\python312\\site-packages (from rich->keras>=3.2.0->tensorflow-intel==2.17.0->tensorflow) (2.18.0)\n",
      "Requirement already satisfied: mdurl~=0.1 in c:\\compilers\\python\\lib\\site-packages (from markdown-it-py>=2.2.0->rich->keras>=3.2.0->tensorflow-intel==2.17.0->tensorflow) (0.1.2)\n"
     ]
    }
   ],
   "source": [
    "%pip install pandas numpy scikit-learn scikit-image matplotlib tensorflow torch torchvision ultralytics"
   ]
  },
  {
   "cell_type": "code",
   "execution_count": 21,
   "metadata": {},
   "outputs": [],
   "source": [
    "#Load dependencies\n",
    "import pandas as pd\n",
    "import numpy as np\n",
    "import os\n",
    "import shutil\n",
    "import base64\n",
    "import cv2\n",
    "\n",
    "from ultralytics import YOLO"
   ]
  },
  {
   "cell_type": "code",
   "execution_count": 30,
   "metadata": {},
   "outputs": [
    {
     "data": {
      "text/html": [
       "<div>\n",
       "<style scoped>\n",
       "    .dataframe tbody tr th:only-of-type {\n",
       "        vertical-align: middle;\n",
       "    }\n",
       "\n",
       "    .dataframe tbody tr th {\n",
       "        vertical-align: top;\n",
       "    }\n",
       "\n",
       "    .dataframe thead th {\n",
       "        text-align: right;\n",
       "    }\n",
       "</style>\n",
       "<table border=\"1\" class=\"dataframe\">\n",
       "  <thead>\n",
       "    <tr style=\"text-align: right;\">\n",
       "      <th></th>\n",
       "      <th>image_path</th>\n",
       "      <th>image_name</th>\n",
       "      <th>image_category</th>\n",
       "    </tr>\n",
       "  </thead>\n",
       "  <tbody>\n",
       "    <tr>\n",
       "      <th>208</th>\n",
       "      <td>data/images\\full_garbage\\1-216.jpeg</td>\n",
       "      <td>1-216.jpeg</td>\n",
       "      <td>full_garbage</td>\n",
       "    </tr>\n",
       "    <tr>\n",
       "      <th>209</th>\n",
       "      <td>data/images\\empty_garbage\\0-296.jpeg</td>\n",
       "      <td>0-296.jpeg</td>\n",
       "      <td>empty_garbage</td>\n",
       "    </tr>\n",
       "    <tr>\n",
       "      <th>210</th>\n",
       "      <td>data/images\\supercharger\\19.jpg</td>\n",
       "      <td>19.jpg</td>\n",
       "      <td>supercharger</td>\n",
       "    </tr>\n",
       "    <tr>\n",
       "      <th>211</th>\n",
       "      <td>data/images\\empty_garbage\\0-396.jpg</td>\n",
       "      <td>0-396.jpg</td>\n",
       "      <td>empty_garbage</td>\n",
       "    </tr>\n",
       "    <tr>\n",
       "      <th>212</th>\n",
       "      <td>data/images\\full_garbage\\1-269.jpeg</td>\n",
       "      <td>1-269.jpeg</td>\n",
       "      <td>full_garbage</td>\n",
       "    </tr>\n",
       "    <tr>\n",
       "      <th>...</th>\n",
       "      <td>...</td>\n",
       "      <td>...</td>\n",
       "      <td>...</td>\n",
       "    </tr>\n",
       "    <tr>\n",
       "      <th>691</th>\n",
       "      <td>data/images\\full_garbage\\1-22.jpg</td>\n",
       "      <td>1-22.jpg</td>\n",
       "      <td>full_garbage</td>\n",
       "    </tr>\n",
       "    <tr>\n",
       "      <th>692</th>\n",
       "      <td>data/images\\empty_garbage\\0-40.jpg</td>\n",
       "      <td>0-40.jpg</td>\n",
       "      <td>empty_garbage</td>\n",
       "    </tr>\n",
       "    <tr>\n",
       "      <th>693</th>\n",
       "      <td>data/images\\full_garbage\\1-631.png</td>\n",
       "      <td>1-631.png</td>\n",
       "      <td>full_garbage</td>\n",
       "    </tr>\n",
       "    <tr>\n",
       "      <th>694</th>\n",
       "      <td>data/images\\full_garbage\\1-521.jpg</td>\n",
       "      <td>1-521.jpg</td>\n",
       "      <td>full_garbage</td>\n",
       "    </tr>\n",
       "    <tr>\n",
       "      <th>695</th>\n",
       "      <td>data/images\\supercharger\\10.png</td>\n",
       "      <td>10.png</td>\n",
       "      <td>supercharger</td>\n",
       "    </tr>\n",
       "  </tbody>\n",
       "</table>\n",
       "<p>488 rows × 3 columns</p>\n",
       "</div>"
      ],
      "text/plain": [
       "                               image_path  image_name image_category\n",
       "208   data/images\\full_garbage\\1-216.jpeg  1-216.jpeg   full_garbage\n",
       "209  data/images\\empty_garbage\\0-296.jpeg  0-296.jpeg  empty_garbage\n",
       "210       data/images\\supercharger\\19.jpg      19.jpg   supercharger\n",
       "211   data/images\\empty_garbage\\0-396.jpg   0-396.jpg  empty_garbage\n",
       "212   data/images\\full_garbage\\1-269.jpeg  1-269.jpeg   full_garbage\n",
       "..                                    ...         ...            ...\n",
       "691     data/images\\full_garbage\\1-22.jpg    1-22.jpg   full_garbage\n",
       "692    data/images\\empty_garbage\\0-40.jpg    0-40.jpg  empty_garbage\n",
       "693    data/images\\full_garbage\\1-631.png   1-631.png   full_garbage\n",
       "694    data/images\\full_garbage\\1-521.jpg   1-521.jpg   full_garbage\n",
       "695       data/images\\supercharger\\10.png      10.png   supercharger\n",
       "\n",
       "[488 rows x 3 columns]"
      ]
     },
     "execution_count": 30,
     "metadata": {},
     "output_type": "execute_result"
    }
   ],
   "source": [
    "DATA_DIRECTORY = 'data/images'\n",
    "\n",
    "LIST_OF_CATEGORIES = [os.path.join(DATA_DIRECTORY, dir) for dir in os.listdir(DATA_DIRECTORY)]\n",
    "\n",
    "# print(LIST_OF_CATEGORIES)\n",
    "\n",
    "combined_df = pd.DataFrame()\n",
    "image_paths = []\n",
    "image_names = []\n",
    "image_categories = []\n",
    "\n",
    "for category in LIST_OF_CATEGORIES:\n",
    "    for image in os.listdir(category):\n",
    "        image_paths.append(os.path.join(category, image))\n",
    "        image_names.append(image)\n",
    "        image_categories.append(category.split('\\\\')[-1])\n",
    "\n",
    "combined_df['image_path'] = image_paths\n",
    "combined_df['image_name'] = image_names\n",
    "combined_df['image_category'] = image_categories\n",
    "\n",
    "combined_df = combined_df.sample(frac=1).reset_index(drop=True)\n",
    "\n",
    "# combined_df\n",
    "\n",
    "test_data_size = int(len(combined_df) * 0.15)\n",
    "\n",
    "test_df = combined_df.head(test_data_size)\n",
    "combined_df = combined_df.iloc[test_data_size:]\n",
    "\n",
    "validation_df = combined_df.head(test_data_size)\n",
    "train_df = combined_df.iloc[test_data_size:]\n",
    "\n",
    "train_df"
   ]
  },
  {
   "cell_type": "code",
   "execution_count": 31,
   "metadata": {},
   "outputs": [],
   "source": [
    "## Organizing data for yolo model\n",
    "\n",
    "TRAINING_DATA_PATH = 'data/classification/train/'\n",
    "VALIDATION_DATA_PATH = 'data/classification/val/'\n",
    "TEST_DATA_PATH = 'data/classification/test/'\n",
    "LIST_OF_DIRECTORIES = [TRAINING_DATA_PATH, VALIDATION_DATA_PATH, TEST_DATA_PATH]\n",
    "LIST_OF_DATAFRAMES = [train_df, validation_df, test_df]\n",
    "\n",
    "for dir in LIST_OF_DIRECTORIES:\n",
    "    index = LIST_OF_DIRECTORIES.index(dir)\n",
    "\n",
    "    if not os.path.isdir(dir):\n",
    "        os.makedirs(dir, exist_ok=True)\n",
    "\n",
    "    current_dataframe = LIST_OF_DATAFRAMES[index]\n",
    "\n",
    "    for row in current_dataframe.itertuples(index=True):\n",
    "        directory_name = row.image_category\n",
    "        image_path = row.image_path\n",
    "        image_name = row.image_name\n",
    "\n",
    "        if not os.path.isdir(os.path.join(dir, directory_name)):\n",
    "            os.makedirs(os.path.join(dir, directory_name), exist_ok=True)\n",
    "\n",
    "        directory_path = os.path.join(dir, directory_name)\n",
    "\n",
    "        shutil.copy(image_path, os.path.join(directory_path, image_name))"
   ]
  },
  {
   "cell_type": "code",
   "execution_count": 34,
   "metadata": {},
   "outputs": [
    {
     "name": "stdout",
     "output_type": "stream",
     "text": [
      "New https://pypi.org/project/ultralytics/8.3.28 available  Update with 'pip install -U ultralytics'\n",
      "Ultralytics YOLOv8.2.63  Python-3.12.5 torch-2.3.1+cpu CPU (AMD Ryzen 5 6600H with Radeon Graphics)\n",
      "\u001b[34m\u001b[1mengine\\trainer: \u001b[0mtask=classify, mode=train, model=yolov8n-cls.pt, data=data/classification, epochs=200, time=None, patience=5, batch=16, imgsz=256, save=True, save_period=-1, cache=False, device=None, workers=8, project=None, name=train4, exist_ok=False, pretrained=True, optimizer=auto, verbose=True, seed=0, deterministic=True, single_cls=False, rect=False, cos_lr=False, close_mosaic=10, resume=False, amp=True, fraction=1.0, profile=False, freeze=None, multi_scale=False, overlap_mask=True, mask_ratio=4, dropout=0.3, val=True, split=val, save_json=False, save_hybrid=False, conf=None, iou=0.7, max_det=300, half=False, dnn=False, plots=True, source=None, vid_stride=1, stream_buffer=False, visualize=False, augment=False, agnostic_nms=False, classes=None, retina_masks=False, embed=None, show=False, save_frames=False, save_txt=False, save_conf=False, save_crop=False, show_labels=True, show_conf=True, show_boxes=True, line_width=None, format=torchscript, keras=False, optimize=False, int8=False, dynamic=False, simplify=False, opset=None, workspace=4, nms=False, lr0=0.01, lrf=0.01, momentum=0.937, weight_decay=0.0005, warmup_epochs=3.0, warmup_momentum=0.8, warmup_bias_lr=0.1, box=7.5, cls=0.5, dfl=1.5, pose=12.0, kobj=1.0, label_smoothing=0.0, nbs=64, hsv_h=0.015, hsv_s=0.7, hsv_v=0.4, degrees=0.0, translate=0.1, scale=0.5, shear=0.0, perspective=0.0, flipud=0.0, fliplr=0.5, bgr=0.0, mosaic=1.0, mixup=0.0, copy_paste=0.0, auto_augment=randaugment, erasing=0.4, crop_fraction=1.0, cfg=None, tracker=botsort.yaml, save_dir=runs\\classify\\train4\n",
      "\u001b[34m\u001b[1mtrain:\u001b[0m C:\\Users\\Dini\\Desktop\\WebDev\\2024\\Unihack-RWS\\backend\\ai\\data\\classification\\train... found 642 images in 3 classes  \n",
      "\u001b[34m\u001b[1mval:\u001b[0m C:\\Users\\Dini\\Desktop\\WebDev\\2024\\Unihack-RWS\\backend\\ai\\data\\classification\\val... found 197 images in 3 classes  \n",
      "\u001b[34m\u001b[1mtest:\u001b[0m C:\\Users\\Dini\\Desktop\\WebDev\\2024\\Unihack-RWS\\backend\\ai\\data\\classification\\test... found 197 images in 3 classes  \n",
      "Overriding model.yaml nc=1000 with nc=3\n",
      "\n",
      "                   from  n    params  module                                       arguments                     \n",
      "  0                  -1  1       464  ultralytics.nn.modules.conv.Conv             [3, 16, 3, 2]                 \n",
      "  1                  -1  1      4672  ultralytics.nn.modules.conv.Conv             [16, 32, 3, 2]                \n",
      "  2                  -1  1      7360  ultralytics.nn.modules.block.C2f             [32, 32, 1, True]             \n",
      "  3                  -1  1     18560  ultralytics.nn.modules.conv.Conv             [32, 64, 3, 2]                \n",
      "  4                  -1  2     49664  ultralytics.nn.modules.block.C2f             [64, 64, 2, True]             \n",
      "  5                  -1  1     73984  ultralytics.nn.modules.conv.Conv             [64, 128, 3, 2]               \n",
      "  6                  -1  2    197632  ultralytics.nn.modules.block.C2f             [128, 128, 2, True]           \n",
      "  7                  -1  1    295424  ultralytics.nn.modules.conv.Conv             [128, 256, 3, 2]              \n",
      "  8                  -1  1    460288  ultralytics.nn.modules.block.C2f             [256, 256, 1, True]           \n",
      "  9                  -1  1    334083  ultralytics.nn.modules.head.Classify         [256, 3]                      \n",
      "YOLOv8n-cls summary: 99 layers, 1,442,131 parameters, 1,442,131 gradients, 3.4 GFLOPs\n",
      "Transferred 156/158 items from pretrained weights\n",
      "\u001b[34m\u001b[1mTensorBoard: \u001b[0mStart with 'tensorboard --logdir runs\\classify\\train4', view at http://localhost:6006/\n"
     ]
    },
    {
     "name": "stderr",
     "output_type": "stream",
     "text": [
      "\u001b[34m\u001b[1mtrain: \u001b[0mScanning C:\\Users\\Dini\\Desktop\\WebDev\\2024\\Unihack-RWS\\backend\\ai\\data\\classification\\train... 642 images, 0 corrupt: 100%|██████████| 642/642 [00:00<?, ?it/s]\n",
      "\u001b[34m\u001b[1mval: \u001b[0mScanning C:\\Users\\Dini\\Desktop\\WebDev\\2024\\Unihack-RWS\\backend\\ai\\data\\classification\\val... 197 images, 0 corrupt: 100%|██████████| 197/197 [00:00<?, ?it/s]"
     ]
    },
    {
     "name": "stdout",
     "output_type": "stream",
     "text": [
      "\u001b[34m\u001b[1moptimizer:\u001b[0m 'optimizer=auto' found, ignoring 'lr0=0.01' and 'momentum=0.937' and determining best 'optimizer', 'lr0' and 'momentum' automatically... \n",
      "\u001b[34m\u001b[1moptimizer:\u001b[0m AdamW(lr=0.000714, momentum=0.9) with parameter groups 26 weight(decay=0.0), 27 weight(decay=0.0005), 27 bias(decay=0.0)\n"
     ]
    },
    {
     "name": "stderr",
     "output_type": "stream",
     "text": [
      "\n"
     ]
    },
    {
     "name": "stdout",
     "output_type": "stream",
     "text": [
      "\u001b[34m\u001b[1mTensorBoard: \u001b[0mmodel graph visualization added \n",
      "Image sizes 256 train, 256 val\n",
      "Using 0 dataloader workers\n",
      "Logging results to \u001b[1mruns\\classify\\train4\u001b[0m\n",
      "Starting training for 200 epochs...\n",
      "\n",
      "      Epoch    GPU_mem       loss  Instances       Size\n"
     ]
    },
    {
     "name": "stderr",
     "output_type": "stream",
     "text": [
      "      1/200         0G     0.8797          2        256: 100%|██████████| 41/41 [01:14<00:00,  1.82s/it]\n",
      "               classes   top1_acc   top5_acc: 100%|██████████| 7/7 [00:19<00:00,  2.76s/it]"
     ]
    },
    {
     "name": "stdout",
     "output_type": "stream",
     "text": [
      "                   all      0.848          1\n"
     ]
    },
    {
     "name": "stderr",
     "output_type": "stream",
     "text": [
      "\n"
     ]
    },
    {
     "name": "stdout",
     "output_type": "stream",
     "text": [
      "\n",
      "      Epoch    GPU_mem       loss  Instances       Size\n"
     ]
    },
    {
     "name": "stderr",
     "output_type": "stream",
     "text": [
      "      2/200         0G     0.4148          2        256: 100%|██████████| 41/41 [01:16<00:00,  1.88s/it]\n",
      "               classes   top1_acc   top5_acc: 100%|██████████| 7/7 [00:17<00:00,  2.54s/it]"
     ]
    },
    {
     "name": "stdout",
     "output_type": "stream",
     "text": [
      "                   all      0.944          1\n"
     ]
    },
    {
     "name": "stderr",
     "output_type": "stream",
     "text": [
      "\n"
     ]
    },
    {
     "name": "stdout",
     "output_type": "stream",
     "text": [
      "\n",
      "      Epoch    GPU_mem       loss  Instances       Size\n"
     ]
    },
    {
     "name": "stderr",
     "output_type": "stream",
     "text": [
      "      3/200         0G     0.1893          2        256: 100%|██████████| 41/41 [01:12<00:00,  1.76s/it]\n",
      "               classes   top1_acc   top5_acc: 100%|██████████| 7/7 [00:18<00:00,  2.65s/it]"
     ]
    },
    {
     "name": "stdout",
     "output_type": "stream",
     "text": [
      "                   all      0.964          1\n"
     ]
    },
    {
     "name": "stderr",
     "output_type": "stream",
     "text": [
      "\n"
     ]
    },
    {
     "name": "stdout",
     "output_type": "stream",
     "text": [
      "\n",
      "      Epoch    GPU_mem       loss  Instances       Size\n"
     ]
    },
    {
     "name": "stderr",
     "output_type": "stream",
     "text": [
      "      4/200         0G     0.1425          2        256: 100%|██████████| 41/41 [01:10<00:00,  1.71s/it]\n",
      "               classes   top1_acc   top5_acc: 100%|██████████| 7/7 [00:18<00:00,  2.60s/it]"
     ]
    },
    {
     "name": "stdout",
     "output_type": "stream",
     "text": [
      "                   all       0.99          1\n"
     ]
    },
    {
     "name": "stderr",
     "output_type": "stream",
     "text": [
      "\n"
     ]
    },
    {
     "name": "stdout",
     "output_type": "stream",
     "text": [
      "\n",
      "      Epoch    GPU_mem       loss  Instances       Size\n"
     ]
    },
    {
     "name": "stderr",
     "output_type": "stream",
     "text": [
      "      5/200         0G       0.14          2        256: 100%|██████████| 41/41 [01:13<00:00,  1.79s/it]\n",
      "               classes   top1_acc   top5_acc: 100%|██████████| 7/7 [00:18<00:00,  2.67s/it]"
     ]
    },
    {
     "name": "stdout",
     "output_type": "stream",
     "text": [
      "                   all       0.99          1\n"
     ]
    },
    {
     "name": "stderr",
     "output_type": "stream",
     "text": [
      "\n"
     ]
    },
    {
     "name": "stdout",
     "output_type": "stream",
     "text": [
      "\n",
      "      Epoch    GPU_mem       loss  Instances       Size\n"
     ]
    },
    {
     "name": "stderr",
     "output_type": "stream",
     "text": [
      "      6/200         0G    0.09577          2        256: 100%|██████████| 41/41 [01:11<00:00,  1.74s/it]\n",
      "               classes   top1_acc   top5_acc: 100%|██████████| 7/7 [00:18<00:00,  2.65s/it]"
     ]
    },
    {
     "name": "stdout",
     "output_type": "stream",
     "text": [
      "                   all          1          1\n"
     ]
    },
    {
     "name": "stderr",
     "output_type": "stream",
     "text": [
      "\n"
     ]
    },
    {
     "name": "stdout",
     "output_type": "stream",
     "text": [
      "\n",
      "      Epoch    GPU_mem       loss  Instances       Size\n"
     ]
    },
    {
     "name": "stderr",
     "output_type": "stream",
     "text": [
      "      7/200         0G    0.06862          2        256: 100%|██████████| 41/41 [01:13<00:00,  1.79s/it]\n",
      "               classes   top1_acc   top5_acc: 100%|██████████| 7/7 [00:18<00:00,  2.71s/it]"
     ]
    },
    {
     "name": "stdout",
     "output_type": "stream",
     "text": [
      "                   all      0.995          1\n"
     ]
    },
    {
     "name": "stderr",
     "output_type": "stream",
     "text": [
      "\n"
     ]
    },
    {
     "name": "stdout",
     "output_type": "stream",
     "text": [
      "\n",
      "      Epoch    GPU_mem       loss  Instances       Size\n"
     ]
    },
    {
     "name": "stderr",
     "output_type": "stream",
     "text": [
      "      8/200         0G    0.05559          2        256: 100%|██████████| 41/41 [01:13<00:00,  1.80s/it]\n",
      "               classes   top1_acc   top5_acc: 100%|██████████| 7/7 [00:19<00:00,  2.73s/it]"
     ]
    },
    {
     "name": "stdout",
     "output_type": "stream",
     "text": [
      "                   all       0.99          1\n"
     ]
    },
    {
     "name": "stderr",
     "output_type": "stream",
     "text": [
      "\n"
     ]
    },
    {
     "name": "stdout",
     "output_type": "stream",
     "text": [
      "\n",
      "      Epoch    GPU_mem       loss  Instances       Size\n"
     ]
    },
    {
     "name": "stderr",
     "output_type": "stream",
     "text": [
      "      9/200         0G    0.07266          2        256: 100%|██████████| 41/41 [01:12<00:00,  1.77s/it]\n",
      "               classes   top1_acc   top5_acc: 100%|██████████| 7/7 [00:18<00:00,  2.63s/it]"
     ]
    },
    {
     "name": "stdout",
     "output_type": "stream",
     "text": [
      "                   all          1          1\n"
     ]
    },
    {
     "name": "stderr",
     "output_type": "stream",
     "text": [
      "\n"
     ]
    },
    {
     "name": "stdout",
     "output_type": "stream",
     "text": [
      "\n",
      "      Epoch    GPU_mem       loss  Instances       Size\n"
     ]
    },
    {
     "name": "stderr",
     "output_type": "stream",
     "text": [
      "     10/200         0G     0.1012          2        256: 100%|██████████| 41/41 [01:10<00:00,  1.71s/it]\n",
      "               classes   top1_acc   top5_acc: 100%|██████████| 7/7 [00:18<00:00,  2.60s/it]"
     ]
    },
    {
     "name": "stdout",
     "output_type": "stream",
     "text": [
      "                   all          1          1\n"
     ]
    },
    {
     "name": "stderr",
     "output_type": "stream",
     "text": [
      "\n"
     ]
    },
    {
     "name": "stdout",
     "output_type": "stream",
     "text": [
      "\n",
      "      Epoch    GPU_mem       loss  Instances       Size\n"
     ]
    },
    {
     "name": "stderr",
     "output_type": "stream",
     "text": [
      "     11/200         0G    0.07365          2        256: 100%|██████████| 41/41 [01:11<00:00,  1.74s/it]\n",
      "               classes   top1_acc   top5_acc: 100%|██████████| 7/7 [00:19<00:00,  2.73s/it]"
     ]
    },
    {
     "name": "stdout",
     "output_type": "stream",
     "text": [
      "                   all      0.995          1\n"
     ]
    },
    {
     "name": "stderr",
     "output_type": "stream",
     "text": [
      "\n"
     ]
    },
    {
     "name": "stdout",
     "output_type": "stream",
     "text": [
      "\n",
      "      Epoch    GPU_mem       loss  Instances       Size\n"
     ]
    },
    {
     "name": "stderr",
     "output_type": "stream",
     "text": [
      "     12/200         0G    0.07413          2        256: 100%|██████████| 41/41 [01:13<00:00,  1.79s/it]\n",
      "               classes   top1_acc   top5_acc: 100%|██████████| 7/7 [00:19<00:00,  2.76s/it]"
     ]
    },
    {
     "name": "stdout",
     "output_type": "stream",
     "text": [
      "                   all      0.995          1\n"
     ]
    },
    {
     "name": "stderr",
     "output_type": "stream",
     "text": [
      "\n"
     ]
    },
    {
     "name": "stdout",
     "output_type": "stream",
     "text": [
      "\n",
      "      Epoch    GPU_mem       loss  Instances       Size\n"
     ]
    },
    {
     "name": "stderr",
     "output_type": "stream",
     "text": [
      "     13/200         0G    0.07516          2        256: 100%|██████████| 41/41 [01:10<00:00,  1.73s/it]\n",
      "               classes   top1_acc   top5_acc: 100%|██████████| 7/7 [00:18<00:00,  2.65s/it]"
     ]
    },
    {
     "name": "stdout",
     "output_type": "stream",
     "text": [
      "                   all      0.995          1\n"
     ]
    },
    {
     "name": "stderr",
     "output_type": "stream",
     "text": [
      "\n"
     ]
    },
    {
     "name": "stdout",
     "output_type": "stream",
     "text": [
      "\n",
      "      Epoch    GPU_mem       loss  Instances       Size\n"
     ]
    },
    {
     "name": "stderr",
     "output_type": "stream",
     "text": [
      "     14/200         0G    0.08603          2        256: 100%|██████████| 41/41 [01:09<00:00,  1.69s/it]\n",
      "               classes   top1_acc   top5_acc: 100%|██████████| 7/7 [00:18<00:00,  2.67s/it]"
     ]
    },
    {
     "name": "stdout",
     "output_type": "stream",
     "text": [
      "                   all      0.995          1\n"
     ]
    },
    {
     "name": "stderr",
     "output_type": "stream",
     "text": [
      "\n"
     ]
    },
    {
     "name": "stdout",
     "output_type": "stream",
     "text": [
      "\n",
      "      Epoch    GPU_mem       loss  Instances       Size\n"
     ]
    },
    {
     "name": "stderr",
     "output_type": "stream",
     "text": [
      "     15/200         0G    0.06256          2        256: 100%|██████████| 41/41 [01:15<00:00,  1.85s/it]\n",
      "               classes   top1_acc   top5_acc: 100%|██████████| 7/7 [00:19<00:00,  2.73s/it]"
     ]
    },
    {
     "name": "stdout",
     "output_type": "stream",
     "text": [
      "                   all          1          1\n"
     ]
    },
    {
     "name": "stderr",
     "output_type": "stream",
     "text": [
      "\n"
     ]
    },
    {
     "name": "stdout",
     "output_type": "stream",
     "text": [
      "\n",
      "      Epoch    GPU_mem       loss  Instances       Size\n"
     ]
    },
    {
     "name": "stderr",
     "output_type": "stream",
     "text": [
      "     16/200         0G    0.08788          2        256: 100%|██████████| 41/41 [01:10<00:00,  1.72s/it]\n",
      "               classes   top1_acc   top5_acc: 100%|██████████| 7/7 [00:18<00:00,  2.64s/it]"
     ]
    },
    {
     "name": "stdout",
     "output_type": "stream",
     "text": [
      "                   all          1          1\n"
     ]
    },
    {
     "name": "stderr",
     "output_type": "stream",
     "text": [
      "\n"
     ]
    },
    {
     "name": "stdout",
     "output_type": "stream",
     "text": [
      "\n",
      "      Epoch    GPU_mem       loss  Instances       Size\n"
     ]
    },
    {
     "name": "stderr",
     "output_type": "stream",
     "text": [
      "     17/200         0G     0.0547          2        256: 100%|██████████| 41/41 [01:11<00:00,  1.75s/it]\n",
      "               classes   top1_acc   top5_acc: 100%|██████████| 7/7 [00:19<00:00,  2.74s/it]"
     ]
    },
    {
     "name": "stdout",
     "output_type": "stream",
     "text": [
      "                   all          1          1\n"
     ]
    },
    {
     "name": "stderr",
     "output_type": "stream",
     "text": [
      "\n"
     ]
    },
    {
     "name": "stdout",
     "output_type": "stream",
     "text": [
      "\n",
      "      Epoch    GPU_mem       loss  Instances       Size\n"
     ]
    },
    {
     "name": "stderr",
     "output_type": "stream",
     "text": [
      "     18/200         0G    0.03564          2        256: 100%|██████████| 41/41 [01:11<00:00,  1.74s/it]\n",
      "               classes   top1_acc   top5_acc: 100%|██████████| 7/7 [00:18<00:00,  2.61s/it]"
     ]
    },
    {
     "name": "stdout",
     "output_type": "stream",
     "text": [
      "                   all          1          1\n"
     ]
    },
    {
     "name": "stderr",
     "output_type": "stream",
     "text": [
      "\n"
     ]
    },
    {
     "name": "stdout",
     "output_type": "stream",
     "text": [
      "\n",
      "      Epoch    GPU_mem       loss  Instances       Size\n"
     ]
    },
    {
     "name": "stderr",
     "output_type": "stream",
     "text": [
      "     19/200         0G    0.04647          2        256: 100%|██████████| 41/41 [01:11<00:00,  1.74s/it]\n",
      "               classes   top1_acc   top5_acc: 100%|██████████| 7/7 [00:18<00:00,  2.71s/it]"
     ]
    },
    {
     "name": "stdout",
     "output_type": "stream",
     "text": [
      "                   all          1          1\n"
     ]
    },
    {
     "name": "stderr",
     "output_type": "stream",
     "text": [
      "\n"
     ]
    },
    {
     "name": "stdout",
     "output_type": "stream",
     "text": [
      "\n",
      "      Epoch    GPU_mem       loss  Instances       Size\n"
     ]
    },
    {
     "name": "stderr",
     "output_type": "stream",
     "text": [
      "     20/200         0G    0.06008          2        256: 100%|██████████| 41/41 [01:09<00:00,  1.70s/it]\n",
      "               classes   top1_acc   top5_acc: 100%|██████████| 7/7 [00:17<00:00,  2.45s/it]"
     ]
    },
    {
     "name": "stdout",
     "output_type": "stream",
     "text": [
      "                   all      0.995          1\n"
     ]
    },
    {
     "name": "stderr",
     "output_type": "stream",
     "text": [
      "\n"
     ]
    },
    {
     "name": "stdout",
     "output_type": "stream",
     "text": [
      "\n",
      "      Epoch    GPU_mem       loss  Instances       Size\n"
     ]
    },
    {
     "name": "stderr",
     "output_type": "stream",
     "text": [
      "     21/200         0G    0.02925          2        256: 100%|██████████| 41/41 [01:10<00:00,  1.72s/it]\n",
      "               classes   top1_acc   top5_acc: 100%|██████████| 7/7 [00:19<00:00,  2.73s/it]"
     ]
    },
    {
     "name": "stdout",
     "output_type": "stream",
     "text": [
      "                   all      0.995          1\n"
     ]
    },
    {
     "name": "stderr",
     "output_type": "stream",
     "text": [
      "\n"
     ]
    },
    {
     "name": "stdout",
     "output_type": "stream",
     "text": [
      "\n",
      "      Epoch    GPU_mem       loss  Instances       Size\n"
     ]
    },
    {
     "name": "stderr",
     "output_type": "stream",
     "text": [
      "     22/200         0G    0.04747          2        256: 100%|██████████| 41/41 [01:10<00:00,  1.72s/it]\n",
      "               classes   top1_acc   top5_acc: 100%|██████████| 7/7 [00:18<00:00,  2.57s/it]"
     ]
    },
    {
     "name": "stdout",
     "output_type": "stream",
     "text": [
      "                   all      0.995          1\n"
     ]
    },
    {
     "name": "stderr",
     "output_type": "stream",
     "text": [
      "\n"
     ]
    },
    {
     "name": "stdout",
     "output_type": "stream",
     "text": [
      "\n",
      "      Epoch    GPU_mem       loss  Instances       Size\n"
     ]
    },
    {
     "name": "stderr",
     "output_type": "stream",
     "text": [
      "     23/200         0G    0.03177          2        256: 100%|██████████| 41/41 [01:14<00:00,  1.81s/it]\n",
      "               classes   top1_acc   top5_acc: 100%|██████████| 7/7 [00:16<00:00,  2.42s/it]"
     ]
    },
    {
     "name": "stdout",
     "output_type": "stream",
     "text": [
      "                   all          1          1\n"
     ]
    },
    {
     "name": "stderr",
     "output_type": "stream",
     "text": [
      "\n"
     ]
    },
    {
     "name": "stdout",
     "output_type": "stream",
     "text": [
      "\n",
      "      Epoch    GPU_mem       loss  Instances       Size\n"
     ]
    },
    {
     "name": "stderr",
     "output_type": "stream",
     "text": [
      "     24/200         0G     0.0426          2        256: 100%|██████████| 41/41 [01:07<00:00,  1.65s/it]\n",
      "               classes   top1_acc   top5_acc: 100%|██████████| 7/7 [00:19<00:00,  2.81s/it]"
     ]
    },
    {
     "name": "stdout",
     "output_type": "stream",
     "text": [
      "                   all          1          1\n"
     ]
    },
    {
     "name": "stderr",
     "output_type": "stream",
     "text": [
      "\n"
     ]
    },
    {
     "name": "stdout",
     "output_type": "stream",
     "text": [
      "\n",
      "      Epoch    GPU_mem       loss  Instances       Size\n"
     ]
    },
    {
     "name": "stderr",
     "output_type": "stream",
     "text": [
      "     25/200         0G    0.03423          2        256: 100%|██████████| 41/41 [01:09<00:00,  1.69s/it]\n",
      "               classes   top1_acc   top5_acc: 100%|██████████| 7/7 [00:18<00:00,  2.59s/it]"
     ]
    },
    {
     "name": "stdout",
     "output_type": "stream",
     "text": [
      "                   all      0.995          1\n"
     ]
    },
    {
     "name": "stderr",
     "output_type": "stream",
     "text": [
      "\n"
     ]
    },
    {
     "name": "stdout",
     "output_type": "stream",
     "text": [
      "\n",
      "      Epoch    GPU_mem       loss  Instances       Size\n"
     ]
    },
    {
     "name": "stderr",
     "output_type": "stream",
     "text": [
      "     26/200         0G    0.05017          2        256: 100%|██████████| 41/41 [01:12<00:00,  1.77s/it]\n",
      "               classes   top1_acc   top5_acc: 100%|██████████| 7/7 [00:18<00:00,  2.67s/it]"
     ]
    },
    {
     "name": "stdout",
     "output_type": "stream",
     "text": [
      "                   all          1          1\n"
     ]
    },
    {
     "name": "stderr",
     "output_type": "stream",
     "text": [
      "\n"
     ]
    },
    {
     "name": "stdout",
     "output_type": "stream",
     "text": [
      "\n",
      "      Epoch    GPU_mem       loss  Instances       Size\n"
     ]
    },
    {
     "name": "stderr",
     "output_type": "stream",
     "text": [
      "     27/200         0G    0.03926          2        256: 100%|██████████| 41/41 [01:10<00:00,  1.71s/it]\n",
      "               classes   top1_acc   top5_acc: 100%|██████████| 7/7 [00:18<00:00,  2.68s/it]"
     ]
    },
    {
     "name": "stdout",
     "output_type": "stream",
     "text": [
      "                   all          1          1\n"
     ]
    },
    {
     "name": "stderr",
     "output_type": "stream",
     "text": [
      "\n"
     ]
    },
    {
     "name": "stdout",
     "output_type": "stream",
     "text": [
      "\n",
      "      Epoch    GPU_mem       loss  Instances       Size\n"
     ]
    },
    {
     "name": "stderr",
     "output_type": "stream",
     "text": [
      "     28/200         0G    0.02636          2        256: 100%|██████████| 41/41 [01:09<00:00,  1.71s/it]\n",
      "               classes   top1_acc   top5_acc: 100%|██████████| 7/7 [00:17<00:00,  2.53s/it]"
     ]
    },
    {
     "name": "stdout",
     "output_type": "stream",
     "text": [
      "                   all          1          1\n"
     ]
    },
    {
     "name": "stderr",
     "output_type": "stream",
     "text": [
      "\n"
     ]
    },
    {
     "name": "stdout",
     "output_type": "stream",
     "text": [
      "\n",
      "      Epoch    GPU_mem       loss  Instances       Size\n"
     ]
    },
    {
     "name": "stderr",
     "output_type": "stream",
     "text": [
      "     29/200         0G     0.0292          2        256: 100%|██████████| 41/41 [01:10<00:00,  1.71s/it]\n",
      "               classes   top1_acc   top5_acc: 100%|██████████| 7/7 [00:17<00:00,  2.56s/it]"
     ]
    },
    {
     "name": "stdout",
     "output_type": "stream",
     "text": [
      "                   all      0.995          1\n"
     ]
    },
    {
     "name": "stderr",
     "output_type": "stream",
     "text": [
      "\n"
     ]
    },
    {
     "name": "stdout",
     "output_type": "stream",
     "text": [
      "\n",
      "      Epoch    GPU_mem       loss  Instances       Size\n"
     ]
    },
    {
     "name": "stderr",
     "output_type": "stream",
     "text": [
      "     30/200         0G     0.0204          2        256: 100%|██████████| 41/41 [01:11<00:00,  1.74s/it]\n",
      "               classes   top1_acc   top5_acc: 100%|██████████| 7/7 [00:19<00:00,  2.72s/it]"
     ]
    },
    {
     "name": "stdout",
     "output_type": "stream",
     "text": [
      "                   all      0.995          1\n"
     ]
    },
    {
     "name": "stderr",
     "output_type": "stream",
     "text": [
      "\n"
     ]
    },
    {
     "name": "stdout",
     "output_type": "stream",
     "text": [
      "\n",
      "      Epoch    GPU_mem       loss  Instances       Size\n"
     ]
    },
    {
     "name": "stderr",
     "output_type": "stream",
     "text": [
      "     31/200         0G    0.02119          2        256: 100%|██████████| 41/41 [01:10<00:00,  1.71s/it]\n",
      "               classes   top1_acc   top5_acc: 100%|██████████| 7/7 [00:16<00:00,  2.37s/it]"
     ]
    },
    {
     "name": "stdout",
     "output_type": "stream",
     "text": [
      "                   all      0.995          1\n"
     ]
    },
    {
     "name": "stderr",
     "output_type": "stream",
     "text": [
      "\n"
     ]
    },
    {
     "name": "stdout",
     "output_type": "stream",
     "text": [
      "\n",
      "      Epoch    GPU_mem       loss  Instances       Size\n"
     ]
    },
    {
     "name": "stderr",
     "output_type": "stream",
     "text": [
      "     32/200         0G    0.02974          2        256: 100%|██████████| 41/41 [01:04<00:00,  1.58s/it]\n",
      "               classes   top1_acc   top5_acc: 100%|██████████| 7/7 [00:17<00:00,  2.43s/it]"
     ]
    },
    {
     "name": "stdout",
     "output_type": "stream",
     "text": [
      "                   all      0.995          1\n"
     ]
    },
    {
     "name": "stderr",
     "output_type": "stream",
     "text": [
      "\n"
     ]
    },
    {
     "name": "stdout",
     "output_type": "stream",
     "text": [
      "\n",
      "      Epoch    GPU_mem       loss  Instances       Size\n"
     ]
    },
    {
     "name": "stderr",
     "output_type": "stream",
     "text": [
      "     33/200         0G    0.03057          2        256: 100%|██████████| 41/41 [01:06<00:00,  1.62s/it]\n",
      "               classes   top1_acc   top5_acc: 100%|██████████| 7/7 [00:17<00:00,  2.57s/it]"
     ]
    },
    {
     "name": "stdout",
     "output_type": "stream",
     "text": [
      "                   all          1          1\n"
     ]
    },
    {
     "name": "stderr",
     "output_type": "stream",
     "text": [
      "\n"
     ]
    },
    {
     "name": "stdout",
     "output_type": "stream",
     "text": [
      "\n",
      "      Epoch    GPU_mem       loss  Instances       Size\n"
     ]
    },
    {
     "name": "stderr",
     "output_type": "stream",
     "text": [
      "     34/200         0G    0.04212          2        256: 100%|██████████| 41/41 [01:10<00:00,  1.73s/it]\n",
      "               classes   top1_acc   top5_acc: 100%|██████████| 7/7 [00:18<00:00,  2.68s/it]"
     ]
    },
    {
     "name": "stdout",
     "output_type": "stream",
     "text": [
      "                   all      0.995          1\n"
     ]
    },
    {
     "name": "stderr",
     "output_type": "stream",
     "text": [
      "\n"
     ]
    },
    {
     "name": "stdout",
     "output_type": "stream",
     "text": [
      "\n",
      "      Epoch    GPU_mem       loss  Instances       Size\n"
     ]
    },
    {
     "name": "stderr",
     "output_type": "stream",
     "text": [
      "     35/200         0G    0.04917          2        256: 100%|██████████| 41/41 [01:13<00:00,  1.80s/it]\n",
      "               classes   top1_acc   top5_acc: 100%|██████████| 7/7 [00:18<00:00,  2.65s/it]"
     ]
    },
    {
     "name": "stdout",
     "output_type": "stream",
     "text": [
      "                   all          1          1\n"
     ]
    },
    {
     "name": "stderr",
     "output_type": "stream",
     "text": [
      "\n"
     ]
    },
    {
     "name": "stdout",
     "output_type": "stream",
     "text": [
      "\n",
      "      Epoch    GPU_mem       loss  Instances       Size\n"
     ]
    },
    {
     "name": "stderr",
     "output_type": "stream",
     "text": [
      "     36/200         0G    0.03055          2        256: 100%|██████████| 41/41 [01:11<00:00,  1.74s/it]\n",
      "               classes   top1_acc   top5_acc: 100%|██████████| 7/7 [00:19<00:00,  2.72s/it]"
     ]
    },
    {
     "name": "stdout",
     "output_type": "stream",
     "text": [
      "                   all          1          1\n"
     ]
    },
    {
     "name": "stderr",
     "output_type": "stream",
     "text": [
      "\n"
     ]
    },
    {
     "name": "stdout",
     "output_type": "stream",
     "text": [
      "\n",
      "      Epoch    GPU_mem       loss  Instances       Size\n"
     ]
    },
    {
     "name": "stderr",
     "output_type": "stream",
     "text": [
      "     37/200         0G    0.04688          2        256: 100%|██████████| 41/41 [01:13<00:00,  1.80s/it]\n",
      "               classes   top1_acc   top5_acc: 100%|██████████| 7/7 [00:18<00:00,  2.69s/it]"
     ]
    },
    {
     "name": "stdout",
     "output_type": "stream",
     "text": [
      "                   all          1          1\n"
     ]
    },
    {
     "name": "stderr",
     "output_type": "stream",
     "text": [
      "\n"
     ]
    },
    {
     "name": "stdout",
     "output_type": "stream",
     "text": [
      "\n",
      "      Epoch    GPU_mem       loss  Instances       Size\n"
     ]
    },
    {
     "name": "stderr",
     "output_type": "stream",
     "text": [
      "     38/200         0G    0.04175          2        256: 100%|██████████| 41/41 [01:14<00:00,  1.81s/it]\n",
      "               classes   top1_acc   top5_acc: 100%|██████████| 7/7 [00:18<00:00,  2.60s/it]"
     ]
    },
    {
     "name": "stdout",
     "output_type": "stream",
     "text": [
      "                   all          1          1\n"
     ]
    },
    {
     "name": "stderr",
     "output_type": "stream",
     "text": [
      "\n"
     ]
    },
    {
     "name": "stdout",
     "output_type": "stream",
     "text": [
      "\n",
      "      Epoch    GPU_mem       loss  Instances       Size\n"
     ]
    },
    {
     "name": "stderr",
     "output_type": "stream",
     "text": [
      "     39/200         0G    0.03896          2        256: 100%|██████████| 41/41 [01:15<00:00,  1.83s/it]\n",
      "               classes   top1_acc   top5_acc: 100%|██████████| 7/7 [00:19<00:00,  2.78s/it]"
     ]
    },
    {
     "name": "stdout",
     "output_type": "stream",
     "text": [
      "                   all          1          1\n"
     ]
    },
    {
     "name": "stderr",
     "output_type": "stream",
     "text": [
      "\n"
     ]
    },
    {
     "name": "stdout",
     "output_type": "stream",
     "text": [
      "\n",
      "      Epoch    GPU_mem       loss  Instances       Size\n"
     ]
    },
    {
     "name": "stderr",
     "output_type": "stream",
     "text": [
      "     40/200         0G    0.04065          2        256: 100%|██████████| 41/41 [01:11<00:00,  1.73s/it]\n",
      "               classes   top1_acc   top5_acc: 100%|██████████| 7/7 [00:18<00:00,  2.70s/it]"
     ]
    },
    {
     "name": "stdout",
     "output_type": "stream",
     "text": [
      "                   all          1          1\n"
     ]
    },
    {
     "name": "stderr",
     "output_type": "stream",
     "text": [
      "\n"
     ]
    },
    {
     "name": "stdout",
     "output_type": "stream",
     "text": [
      "\n",
      "      Epoch    GPU_mem       loss  Instances       Size\n"
     ]
    },
    {
     "name": "stderr",
     "output_type": "stream",
     "text": [
      "     41/200         0G    0.01974          2        256: 100%|██████████| 41/41 [01:07<00:00,  1.63s/it]\n",
      "               classes   top1_acc   top5_acc: 100%|██████████| 7/7 [00:16<00:00,  2.40s/it]"
     ]
    },
    {
     "name": "stdout",
     "output_type": "stream",
     "text": [
      "                   all      0.995          1\n"
     ]
    },
    {
     "name": "stderr",
     "output_type": "stream",
     "text": [
      "\n"
     ]
    },
    {
     "name": "stdout",
     "output_type": "stream",
     "text": [
      "\n",
      "      Epoch    GPU_mem       loss  Instances       Size\n"
     ]
    },
    {
     "name": "stderr",
     "output_type": "stream",
     "text": [
      "     42/200         0G    0.03324          2        256: 100%|██████████| 41/41 [01:09<00:00,  1.70s/it]\n",
      "               classes   top1_acc   top5_acc: 100%|██████████| 7/7 [00:18<00:00,  2.67s/it]"
     ]
    },
    {
     "name": "stdout",
     "output_type": "stream",
     "text": [
      "                   all      0.995          1\n"
     ]
    },
    {
     "name": "stderr",
     "output_type": "stream",
     "text": [
      "\n"
     ]
    },
    {
     "name": "stdout",
     "output_type": "stream",
     "text": [
      "\n",
      "      Epoch    GPU_mem       loss  Instances       Size\n"
     ]
    },
    {
     "name": "stderr",
     "output_type": "stream",
     "text": [
      "     43/200         0G    0.06568          2        256: 100%|██████████| 41/41 [01:17<00:00,  1.89s/it]\n",
      "               classes   top1_acc   top5_acc: 100%|██████████| 7/7 [00:18<00:00,  2.71s/it]"
     ]
    },
    {
     "name": "stdout",
     "output_type": "stream",
     "text": [
      "                   all      0.995          1\n"
     ]
    },
    {
     "name": "stderr",
     "output_type": "stream",
     "text": [
      "\n"
     ]
    },
    {
     "name": "stdout",
     "output_type": "stream",
     "text": [
      "\n",
      "      Epoch    GPU_mem       loss  Instances       Size\n"
     ]
    },
    {
     "name": "stderr",
     "output_type": "stream",
     "text": [
      "     44/200         0G    0.04166          2        256: 100%|██████████| 41/41 [01:12<00:00,  1.77s/it]\n",
      "               classes   top1_acc   top5_acc: 100%|██████████| 7/7 [00:18<00:00,  2.60s/it]"
     ]
    },
    {
     "name": "stdout",
     "output_type": "stream",
     "text": [
      "                   all          1          1\n"
     ]
    },
    {
     "name": "stderr",
     "output_type": "stream",
     "text": [
      "\n"
     ]
    },
    {
     "name": "stdout",
     "output_type": "stream",
     "text": [
      "\n",
      "      Epoch    GPU_mem       loss  Instances       Size\n"
     ]
    },
    {
     "name": "stderr",
     "output_type": "stream",
     "text": [
      "     45/200         0G    0.07693          2        256: 100%|██████████| 41/41 [01:11<00:00,  1.76s/it]\n",
      "               classes   top1_acc   top5_acc: 100%|██████████| 7/7 [00:19<00:00,  2.80s/it]"
     ]
    },
    {
     "name": "stdout",
     "output_type": "stream",
     "text": [
      "                   all          1          1\n"
     ]
    },
    {
     "name": "stderr",
     "output_type": "stream",
     "text": [
      "\n"
     ]
    },
    {
     "name": "stdout",
     "output_type": "stream",
     "text": [
      "\n",
      "      Epoch    GPU_mem       loss  Instances       Size\n"
     ]
    },
    {
     "name": "stderr",
     "output_type": "stream",
     "text": [
      "     46/200         0G    0.04298          2        256: 100%|██████████| 41/41 [01:11<00:00,  1.76s/it]\n",
      "               classes   top1_acc   top5_acc: 100%|██████████| 7/7 [00:18<00:00,  2.70s/it]"
     ]
    },
    {
     "name": "stdout",
     "output_type": "stream",
     "text": [
      "                   all          1          1\n"
     ]
    },
    {
     "name": "stderr",
     "output_type": "stream",
     "text": [
      "\n"
     ]
    },
    {
     "name": "stdout",
     "output_type": "stream",
     "text": [
      "\n",
      "      Epoch    GPU_mem       loss  Instances       Size\n"
     ]
    },
    {
     "name": "stderr",
     "output_type": "stream",
     "text": [
      "     47/200         0G    0.01872         16        256:  51%|█████     | 21/41 [00:39<00:37,  1.88s/it]\n"
     ]
    },
    {
     "ename": "KeyboardInterrupt",
     "evalue": "",
     "output_type": "error",
     "traceback": [
      "\u001b[1;31m---------------------------------------------------------------------------\u001b[0m",
      "\u001b[1;31mKeyboardInterrupt\u001b[0m                         Traceback (most recent call last)",
      "Cell \u001b[1;32mIn[34], line 5\u001b[0m\n\u001b[0;32m      1\u001b[0m \u001b[38;5;66;03m# Model training\u001b[39;00m\n\u001b[0;32m      3\u001b[0m model \u001b[38;5;241m=\u001b[39m YOLO(\u001b[38;5;124m'\u001b[39m\u001b[38;5;124myolov8n-cls.pt\u001b[39m\u001b[38;5;124m'\u001b[39m)\n\u001b[1;32m----> 5\u001b[0m \u001b[43mmodel\u001b[49m\u001b[38;5;241;43m.\u001b[39;49m\u001b[43mtrain\u001b[49m\u001b[43m(\u001b[49m\u001b[43mdata\u001b[49m\u001b[38;5;241;43m=\u001b[39;49m\u001b[38;5;124;43m'\u001b[39;49m\u001b[38;5;124;43mdata/classification\u001b[39;49m\u001b[38;5;124;43m'\u001b[39;49m\u001b[43m,\u001b[49m\u001b[43m \u001b[49m\u001b[43mepochs\u001b[49m\u001b[38;5;241;43m=\u001b[39;49m\u001b[38;5;241;43m200\u001b[39;49m\u001b[43m,\u001b[49m\u001b[43m \u001b[49m\u001b[43mpatience\u001b[49m\u001b[38;5;241;43m=\u001b[39;49m\u001b[38;5;241;43m5\u001b[39;49m\u001b[43m,\u001b[49m\u001b[43m \u001b[49m\u001b[43mverbose\u001b[49m\u001b[38;5;241;43m=\u001b[39;49m\u001b[38;5;28;43;01mTrue\u001b[39;49;00m\u001b[43m,\u001b[49m\u001b[43m \u001b[49m\u001b[43mdropout\u001b[49m\u001b[38;5;241;43m=\u001b[39;49m\u001b[38;5;241;43m0.3\u001b[39;49m\u001b[43m,\u001b[49m\u001b[43m \u001b[49m\u001b[43mimgsz\u001b[49m\u001b[38;5;241;43m=\u001b[39;49m\u001b[38;5;241;43m256\u001b[39;49m\u001b[43m,\u001b[49m\u001b[43m \u001b[49m\u001b[43m)\u001b[49m\n",
      "File \u001b[1;32mc:\\Compilers\\Python\\Lib\\site-packages\\ultralytics\\engine\\model.py:810\u001b[0m, in \u001b[0;36mModel.train\u001b[1;34m(self, trainer, **kwargs)\u001b[0m\n\u001b[0;32m    807\u001b[0m     \u001b[38;5;28mself\u001b[39m\u001b[38;5;241m.\u001b[39mmodel \u001b[38;5;241m=\u001b[39m \u001b[38;5;28mself\u001b[39m\u001b[38;5;241m.\u001b[39mtrainer\u001b[38;5;241m.\u001b[39mmodel\n\u001b[0;32m    809\u001b[0m \u001b[38;5;28mself\u001b[39m\u001b[38;5;241m.\u001b[39mtrainer\u001b[38;5;241m.\u001b[39mhub_session \u001b[38;5;241m=\u001b[39m \u001b[38;5;28mself\u001b[39m\u001b[38;5;241m.\u001b[39msession  \u001b[38;5;66;03m# attach optional HUB session\u001b[39;00m\n\u001b[1;32m--> 810\u001b[0m \u001b[38;5;28;43mself\u001b[39;49m\u001b[38;5;241;43m.\u001b[39;49m\u001b[43mtrainer\u001b[49m\u001b[38;5;241;43m.\u001b[39;49m\u001b[43mtrain\u001b[49m\u001b[43m(\u001b[49m\u001b[43m)\u001b[49m\n\u001b[0;32m    811\u001b[0m \u001b[38;5;66;03m# Update model and cfg after training\u001b[39;00m\n\u001b[0;32m    812\u001b[0m \u001b[38;5;28;01mif\u001b[39;00m RANK \u001b[38;5;129;01min\u001b[39;00m {\u001b[38;5;241m-\u001b[39m\u001b[38;5;241m1\u001b[39m, \u001b[38;5;241m0\u001b[39m}:\n",
      "File \u001b[1;32mc:\\Compilers\\Python\\Lib\\site-packages\\ultralytics\\engine\\trainer.py:204\u001b[0m, in \u001b[0;36mBaseTrainer.train\u001b[1;34m(self)\u001b[0m\n\u001b[0;32m    201\u001b[0m         ddp_cleanup(\u001b[38;5;28mself\u001b[39m, \u001b[38;5;28mstr\u001b[39m(file))\n\u001b[0;32m    203\u001b[0m \u001b[38;5;28;01melse\u001b[39;00m:\n\u001b[1;32m--> 204\u001b[0m     \u001b[38;5;28;43mself\u001b[39;49m\u001b[38;5;241;43m.\u001b[39;49m\u001b[43m_do_train\u001b[49m\u001b[43m(\u001b[49m\u001b[43mworld_size\u001b[49m\u001b[43m)\u001b[49m\n",
      "File \u001b[1;32mc:\\Compilers\\Python\\Lib\\site-packages\\ultralytics\\engine\\trainer.py:363\u001b[0m, in \u001b[0;36mBaseTrainer._do_train\u001b[1;34m(self, world_size)\u001b[0m\n\u001b[0;32m    361\u001b[0m     pbar \u001b[38;5;241m=\u001b[39m TQDM(\u001b[38;5;28menumerate\u001b[39m(\u001b[38;5;28mself\u001b[39m\u001b[38;5;241m.\u001b[39mtrain_loader), total\u001b[38;5;241m=\u001b[39mnb)\n\u001b[0;32m    362\u001b[0m \u001b[38;5;28mself\u001b[39m\u001b[38;5;241m.\u001b[39mtloss \u001b[38;5;241m=\u001b[39m \u001b[38;5;28;01mNone\u001b[39;00m\n\u001b[1;32m--> 363\u001b[0m \u001b[43m\u001b[49m\u001b[38;5;28;43;01mfor\u001b[39;49;00m\u001b[43m \u001b[49m\u001b[43mi\u001b[49m\u001b[43m,\u001b[49m\u001b[43m \u001b[49m\u001b[43mbatch\u001b[49m\u001b[43m \u001b[49m\u001b[38;5;129;43;01min\u001b[39;49;00m\u001b[43m \u001b[49m\u001b[43mpbar\u001b[49m\u001b[43m:\u001b[49m\n\u001b[0;32m    364\u001b[0m \u001b[43m    \u001b[49m\u001b[38;5;28;43mself\u001b[39;49m\u001b[38;5;241;43m.\u001b[39;49m\u001b[43mrun_callbacks\u001b[49m\u001b[43m(\u001b[49m\u001b[38;5;124;43m\"\u001b[39;49m\u001b[38;5;124;43mon_train_batch_start\u001b[39;49m\u001b[38;5;124;43m\"\u001b[39;49m\u001b[43m)\u001b[49m\n\u001b[0;32m    365\u001b[0m \u001b[43m    \u001b[49m\u001b[38;5;66;43;03m# Warmup\u001b[39;49;00m\n",
      "File \u001b[1;32mc:\\Compilers\\Python\\Lib\\site-packages\\tqdm\\std.py:1181\u001b[0m, in \u001b[0;36mtqdm.__iter__\u001b[1;34m(self)\u001b[0m\n\u001b[0;32m   1178\u001b[0m time \u001b[38;5;241m=\u001b[39m \u001b[38;5;28mself\u001b[39m\u001b[38;5;241m.\u001b[39m_time\n\u001b[0;32m   1180\u001b[0m \u001b[38;5;28;01mtry\u001b[39;00m:\n\u001b[1;32m-> 1181\u001b[0m \u001b[43m    \u001b[49m\u001b[38;5;28;43;01mfor\u001b[39;49;00m\u001b[43m \u001b[49m\u001b[43mobj\u001b[49m\u001b[43m \u001b[49m\u001b[38;5;129;43;01min\u001b[39;49;00m\u001b[43m \u001b[49m\u001b[43miterable\u001b[49m\u001b[43m:\u001b[49m\n\u001b[0;32m   1182\u001b[0m \u001b[43m        \u001b[49m\u001b[38;5;28;43;01myield\u001b[39;49;00m\u001b[43m \u001b[49m\u001b[43mobj\u001b[49m\n\u001b[0;32m   1183\u001b[0m \u001b[43m        \u001b[49m\u001b[38;5;66;43;03m# Update and possibly print the progressbar.\u001b[39;49;00m\n\u001b[0;32m   1184\u001b[0m \u001b[43m        \u001b[49m\u001b[38;5;66;43;03m# Note: does not call self.update(1) for speed optimisation.\u001b[39;49;00m\n",
      "File \u001b[1;32mc:\\Compilers\\Python\\Lib\\site-packages\\ultralytics\\data\\build.py:48\u001b[0m, in \u001b[0;36mInfiniteDataLoader.__iter__\u001b[1;34m(self)\u001b[0m\n\u001b[0;32m     46\u001b[0m \u001b[38;5;250m\u001b[39m\u001b[38;5;124;03m\"\"\"Creates a sampler that repeats indefinitely.\"\"\"\u001b[39;00m\n\u001b[0;32m     47\u001b[0m \u001b[38;5;28;01mfor\u001b[39;00m _ \u001b[38;5;129;01min\u001b[39;00m \u001b[38;5;28mrange\u001b[39m(\u001b[38;5;28mlen\u001b[39m(\u001b[38;5;28mself\u001b[39m)):\n\u001b[1;32m---> 48\u001b[0m     \u001b[38;5;28;01myield\u001b[39;00m \u001b[38;5;28;43mnext\u001b[39;49m\u001b[43m(\u001b[49m\u001b[38;5;28;43mself\u001b[39;49m\u001b[38;5;241;43m.\u001b[39;49m\u001b[43miterator\u001b[49m\u001b[43m)\u001b[49m\n",
      "File \u001b[1;32mc:\\Compilers\\Python\\Lib\\site-packages\\torch\\utils\\data\\dataloader.py:631\u001b[0m, in \u001b[0;36m_BaseDataLoaderIter.__next__\u001b[1;34m(self)\u001b[0m\n\u001b[0;32m    628\u001b[0m \u001b[38;5;28;01mif\u001b[39;00m \u001b[38;5;28mself\u001b[39m\u001b[38;5;241m.\u001b[39m_sampler_iter \u001b[38;5;129;01mis\u001b[39;00m \u001b[38;5;28;01mNone\u001b[39;00m:\n\u001b[0;32m    629\u001b[0m     \u001b[38;5;66;03m# TODO(https://github.com/pytorch/pytorch/issues/76750)\u001b[39;00m\n\u001b[0;32m    630\u001b[0m     \u001b[38;5;28mself\u001b[39m\u001b[38;5;241m.\u001b[39m_reset()  \u001b[38;5;66;03m# type: ignore[call-arg]\u001b[39;00m\n\u001b[1;32m--> 631\u001b[0m data \u001b[38;5;241m=\u001b[39m \u001b[38;5;28;43mself\u001b[39;49m\u001b[38;5;241;43m.\u001b[39;49m\u001b[43m_next_data\u001b[49m\u001b[43m(\u001b[49m\u001b[43m)\u001b[49m\n\u001b[0;32m    632\u001b[0m \u001b[38;5;28mself\u001b[39m\u001b[38;5;241m.\u001b[39m_num_yielded \u001b[38;5;241m+\u001b[39m\u001b[38;5;241m=\u001b[39m \u001b[38;5;241m1\u001b[39m\n\u001b[0;32m    633\u001b[0m \u001b[38;5;28;01mif\u001b[39;00m \u001b[38;5;28mself\u001b[39m\u001b[38;5;241m.\u001b[39m_dataset_kind \u001b[38;5;241m==\u001b[39m _DatasetKind\u001b[38;5;241m.\u001b[39mIterable \u001b[38;5;129;01mand\u001b[39;00m \\\n\u001b[0;32m    634\u001b[0m         \u001b[38;5;28mself\u001b[39m\u001b[38;5;241m.\u001b[39m_IterableDataset_len_called \u001b[38;5;129;01mis\u001b[39;00m \u001b[38;5;129;01mnot\u001b[39;00m \u001b[38;5;28;01mNone\u001b[39;00m \u001b[38;5;129;01mand\u001b[39;00m \\\n\u001b[0;32m    635\u001b[0m         \u001b[38;5;28mself\u001b[39m\u001b[38;5;241m.\u001b[39m_num_yielded \u001b[38;5;241m>\u001b[39m \u001b[38;5;28mself\u001b[39m\u001b[38;5;241m.\u001b[39m_IterableDataset_len_called:\n",
      "File \u001b[1;32mc:\\Compilers\\Python\\Lib\\site-packages\\torch\\utils\\data\\dataloader.py:675\u001b[0m, in \u001b[0;36m_SingleProcessDataLoaderIter._next_data\u001b[1;34m(self)\u001b[0m\n\u001b[0;32m    673\u001b[0m \u001b[38;5;28;01mdef\u001b[39;00m \u001b[38;5;21m_next_data\u001b[39m(\u001b[38;5;28mself\u001b[39m):\n\u001b[0;32m    674\u001b[0m     index \u001b[38;5;241m=\u001b[39m \u001b[38;5;28mself\u001b[39m\u001b[38;5;241m.\u001b[39m_next_index()  \u001b[38;5;66;03m# may raise StopIteration\u001b[39;00m\n\u001b[1;32m--> 675\u001b[0m     data \u001b[38;5;241m=\u001b[39m \u001b[38;5;28;43mself\u001b[39;49m\u001b[38;5;241;43m.\u001b[39;49m\u001b[43m_dataset_fetcher\u001b[49m\u001b[38;5;241;43m.\u001b[39;49m\u001b[43mfetch\u001b[49m\u001b[43m(\u001b[49m\u001b[43mindex\u001b[49m\u001b[43m)\u001b[49m  \u001b[38;5;66;03m# may raise StopIteration\u001b[39;00m\n\u001b[0;32m    676\u001b[0m     \u001b[38;5;28;01mif\u001b[39;00m \u001b[38;5;28mself\u001b[39m\u001b[38;5;241m.\u001b[39m_pin_memory:\n\u001b[0;32m    677\u001b[0m         data \u001b[38;5;241m=\u001b[39m _utils\u001b[38;5;241m.\u001b[39mpin_memory\u001b[38;5;241m.\u001b[39mpin_memory(data, \u001b[38;5;28mself\u001b[39m\u001b[38;5;241m.\u001b[39m_pin_memory_device)\n",
      "File \u001b[1;32mc:\\Compilers\\Python\\Lib\\site-packages\\torch\\utils\\data\\_utils\\fetch.py:51\u001b[0m, in \u001b[0;36m_MapDatasetFetcher.fetch\u001b[1;34m(self, possibly_batched_index)\u001b[0m\n\u001b[0;32m     49\u001b[0m         data \u001b[38;5;241m=\u001b[39m \u001b[38;5;28mself\u001b[39m\u001b[38;5;241m.\u001b[39mdataset\u001b[38;5;241m.\u001b[39m__getitems__(possibly_batched_index)\n\u001b[0;32m     50\u001b[0m     \u001b[38;5;28;01melse\u001b[39;00m:\n\u001b[1;32m---> 51\u001b[0m         data \u001b[38;5;241m=\u001b[39m [\u001b[38;5;28;43mself\u001b[39;49m\u001b[38;5;241;43m.\u001b[39;49m\u001b[43mdataset\u001b[49m\u001b[43m[\u001b[49m\u001b[43midx\u001b[49m\u001b[43m]\u001b[49m \u001b[38;5;28;01mfor\u001b[39;00m idx \u001b[38;5;129;01min\u001b[39;00m possibly_batched_index]\n\u001b[0;32m     52\u001b[0m \u001b[38;5;28;01melse\u001b[39;00m:\n\u001b[0;32m     53\u001b[0m     data \u001b[38;5;241m=\u001b[39m \u001b[38;5;28mself\u001b[39m\u001b[38;5;241m.\u001b[39mdataset[possibly_batched_index]\n",
      "File \u001b[1;32mc:\\Compilers\\Python\\Lib\\site-packages\\ultralytics\\data\\dataset.py:465\u001b[0m, in \u001b[0;36mClassificationDataset.__getitem__\u001b[1;34m(self, i)\u001b[0m\n\u001b[0;32m    463\u001b[0m     im \u001b[38;5;241m=\u001b[39m np\u001b[38;5;241m.\u001b[39mload(fn)\n\u001b[0;32m    464\u001b[0m \u001b[38;5;28;01melse\u001b[39;00m:  \u001b[38;5;66;03m# read image\u001b[39;00m\n\u001b[1;32m--> 465\u001b[0m     im \u001b[38;5;241m=\u001b[39m \u001b[43mcv2\u001b[49m\u001b[38;5;241;43m.\u001b[39;49m\u001b[43mimread\u001b[49m\u001b[43m(\u001b[49m\u001b[43mf\u001b[49m\u001b[43m)\u001b[49m  \u001b[38;5;66;03m# BGR\u001b[39;00m\n\u001b[0;32m    466\u001b[0m \u001b[38;5;66;03m# Convert NumPy array to PIL image\u001b[39;00m\n\u001b[0;32m    467\u001b[0m im \u001b[38;5;241m=\u001b[39m Image\u001b[38;5;241m.\u001b[39mfromarray(cv2\u001b[38;5;241m.\u001b[39mcvtColor(im, cv2\u001b[38;5;241m.\u001b[39mCOLOR_BGR2RGB))\n",
      "File \u001b[1;32mc:\\Compilers\\Python\\Lib\\site-packages\\ultralytics\\utils\\patches.py:26\u001b[0m, in \u001b[0;36mimread\u001b[1;34m(filename, flags)\u001b[0m\n\u001b[0;32m     15\u001b[0m \u001b[38;5;28;01mdef\u001b[39;00m \u001b[38;5;21mimread\u001b[39m(filename: \u001b[38;5;28mstr\u001b[39m, flags: \u001b[38;5;28mint\u001b[39m \u001b[38;5;241m=\u001b[39m cv2\u001b[38;5;241m.\u001b[39mIMREAD_COLOR):\n\u001b[0;32m     16\u001b[0m \u001b[38;5;250m    \u001b[39m\u001b[38;5;124;03m\"\"\"\u001b[39;00m\n\u001b[0;32m     17\u001b[0m \u001b[38;5;124;03m    Read an image from a file.\u001b[39;00m\n\u001b[0;32m     18\u001b[0m \n\u001b[1;32m   (...)\u001b[0m\n\u001b[0;32m     24\u001b[0m \u001b[38;5;124;03m        (np.ndarray): The read image.\u001b[39;00m\n\u001b[0;32m     25\u001b[0m \u001b[38;5;124;03m    \"\"\"\u001b[39;00m\n\u001b[1;32m---> 26\u001b[0m     \u001b[38;5;28;01mreturn\u001b[39;00m \u001b[43mcv2\u001b[49m\u001b[38;5;241;43m.\u001b[39;49m\u001b[43mimdecode\u001b[49m\u001b[43m(\u001b[49m\u001b[43mnp\u001b[49m\u001b[38;5;241;43m.\u001b[39;49m\u001b[43mfromfile\u001b[49m\u001b[43m(\u001b[49m\u001b[43mfilename\u001b[49m\u001b[43m,\u001b[49m\u001b[43m \u001b[49m\u001b[43mnp\u001b[49m\u001b[38;5;241;43m.\u001b[39;49m\u001b[43muint8\u001b[49m\u001b[43m)\u001b[49m\u001b[43m,\u001b[49m\u001b[43m \u001b[49m\u001b[43mflags\u001b[49m\u001b[43m)\u001b[49m\n",
      "\u001b[1;31mKeyboardInterrupt\u001b[0m: "
     ]
    }
   ],
   "source": [
    "# Model training\n",
    "\n",
    "model = YOLO('yolov8n-cls.pt')\n",
    "\n",
    "model.train(data='data/classification', epochs=200, patience=5, verbose=True, dropout=0.3, imgsz=256, )"
   ]
  },
  {
   "cell_type": "code",
   "execution_count": 5,
   "metadata": {},
   "outputs": [],
   "source": [
    "# Loading already trained model\n",
    "\n",
    "model = YOLO('ImageClassifier/best.pt')"
   ]
  },
  {
   "cell_type": "code",
   "execution_count": 6,
   "metadata": {},
   "outputs": [
    {
     "name": "stdout",
     "output_type": "stream",
     "text": [
      "Ultralytics YOLOv8.2.63  Python-3.12.5 torch-2.3.1+cpu CPU (AMD Ryzen 5 6600H with Radeon Graphics)\n",
      "YOLOv8n-cls summary (fused): 73 layers, 1,438,723 parameters, 0 gradients, 3.3 GFLOPs\n",
      "\n",
      "Dataset not found , missing path C:\\Users\\Dini\\Desktop\\WebDev\\2024\\AI-Behavioral-Biometrics-Authentication\\datasets\\data\\classification, attempting download...\n",
      "Downloading https://ultralytics.com/assets/data/classification.zip to 'C:\\Users\\Dini\\Desktop\\WebDev\\2024\\AI-Behavioral-Biometrics-Authentication\\datasets\\data\\classification.zip'...\n",
      " Download failure, retrying 1/3 https://ultralytics.com/assets/data/classification.zip...\n",
      "Dataset download success  (3.5s), saved to \u001b[1mC:\\Users\\Dini\\Desktop\\WebDev\\2024\\AI-Behavioral-Biometrics-Authentication\\datasets\\data\\classification\u001b[0m\n",
      "\n",
      "WARNING  Dataset 'split=val' not found, using 'split=test' instead.\n"
     ]
    },
    {
     "ename": "FileNotFoundError",
     "evalue": "[WinError 3] The system cannot find the path specified: 'C:\\\\Users\\\\Dini\\\\Desktop\\\\WebDev\\\\2024\\\\AI-Behavioral-Biometrics-Authentication\\\\datasets\\\\data\\\\classification\\\\train'",
     "output_type": "error",
     "traceback": [
      "\u001b[1;31m---------------------------------------------------------------------------\u001b[0m",
      "\u001b[1;31mFileNotFoundError\u001b[0m                         Traceback (most recent call last)",
      "Cell \u001b[1;32mIn[6], line 3\u001b[0m\n\u001b[0;32m      1\u001b[0m \u001b[38;5;66;03m# Validate the model\u001b[39;00m\n\u001b[1;32m----> 3\u001b[0m validation_results \u001b[38;5;241m=\u001b[39m \u001b[43mmodel\u001b[49m\u001b[38;5;241;43m.\u001b[39;49m\u001b[43mval\u001b[49m\u001b[43m(\u001b[49m\u001b[43m)\u001b[49m\n\u001b[0;32m      4\u001b[0m validation_results\u001b[38;5;241m.\u001b[39mtop1\n\u001b[0;32m      5\u001b[0m validation_results\u001b[38;5;241m.\u001b[39mtop5\n",
      "File \u001b[1;32mc:\\Compilers\\Python\\Lib\\site-packages\\ultralytics\\engine\\model.py:643\u001b[0m, in \u001b[0;36mModel.val\u001b[1;34m(self, validator, **kwargs)\u001b[0m\n\u001b[0;32m    640\u001b[0m args \u001b[38;5;241m=\u001b[39m {\u001b[38;5;241m*\u001b[39m\u001b[38;5;241m*\u001b[39m\u001b[38;5;28mself\u001b[39m\u001b[38;5;241m.\u001b[39moverrides, \u001b[38;5;241m*\u001b[39m\u001b[38;5;241m*\u001b[39mcustom, \u001b[38;5;241m*\u001b[39m\u001b[38;5;241m*\u001b[39mkwargs, \u001b[38;5;124m\"\u001b[39m\u001b[38;5;124mmode\u001b[39m\u001b[38;5;124m\"\u001b[39m: \u001b[38;5;124m\"\u001b[39m\u001b[38;5;124mval\u001b[39m\u001b[38;5;124m\"\u001b[39m}  \u001b[38;5;66;03m# highest priority args on the right\u001b[39;00m\n\u001b[0;32m    642\u001b[0m validator \u001b[38;5;241m=\u001b[39m (validator \u001b[38;5;129;01mor\u001b[39;00m \u001b[38;5;28mself\u001b[39m\u001b[38;5;241m.\u001b[39m_smart_load(\u001b[38;5;124m\"\u001b[39m\u001b[38;5;124mvalidator\u001b[39m\u001b[38;5;124m\"\u001b[39m))(args\u001b[38;5;241m=\u001b[39margs, _callbacks\u001b[38;5;241m=\u001b[39m\u001b[38;5;28mself\u001b[39m\u001b[38;5;241m.\u001b[39mcallbacks)\n\u001b[1;32m--> 643\u001b[0m \u001b[43mvalidator\u001b[49m\u001b[43m(\u001b[49m\u001b[43mmodel\u001b[49m\u001b[38;5;241;43m=\u001b[39;49m\u001b[38;5;28;43mself\u001b[39;49m\u001b[38;5;241;43m.\u001b[39;49m\u001b[43mmodel\u001b[49m\u001b[43m)\u001b[49m\n\u001b[0;32m    644\u001b[0m \u001b[38;5;28mself\u001b[39m\u001b[38;5;241m.\u001b[39mmetrics \u001b[38;5;241m=\u001b[39m validator\u001b[38;5;241m.\u001b[39mmetrics\n\u001b[0;32m    645\u001b[0m \u001b[38;5;28;01mreturn\u001b[39;00m validator\u001b[38;5;241m.\u001b[39mmetrics\n",
      "File \u001b[1;32mc:\\Compilers\\Python\\Lib\\site-packages\\torch\\utils\\_contextlib.py:115\u001b[0m, in \u001b[0;36mcontext_decorator.<locals>.decorate_context\u001b[1;34m(*args, **kwargs)\u001b[0m\n\u001b[0;32m    112\u001b[0m \u001b[38;5;129m@functools\u001b[39m\u001b[38;5;241m.\u001b[39mwraps(func)\n\u001b[0;32m    113\u001b[0m \u001b[38;5;28;01mdef\u001b[39;00m \u001b[38;5;21mdecorate_context\u001b[39m(\u001b[38;5;241m*\u001b[39margs, \u001b[38;5;241m*\u001b[39m\u001b[38;5;241m*\u001b[39mkwargs):\n\u001b[0;32m    114\u001b[0m     \u001b[38;5;28;01mwith\u001b[39;00m ctx_factory():\n\u001b[1;32m--> 115\u001b[0m         \u001b[38;5;28;01mreturn\u001b[39;00m \u001b[43mfunc\u001b[49m\u001b[43m(\u001b[49m\u001b[38;5;241;43m*\u001b[39;49m\u001b[43margs\u001b[49m\u001b[43m,\u001b[49m\u001b[43m \u001b[49m\u001b[38;5;241;43m*\u001b[39;49m\u001b[38;5;241;43m*\u001b[39;49m\u001b[43mkwargs\u001b[49m\u001b[43m)\u001b[49m\n",
      "File \u001b[1;32mc:\\Compilers\\Python\\Lib\\site-packages\\ultralytics\\engine\\validator.py:145\u001b[0m, in \u001b[0;36mBaseValidator.__call__\u001b[1;34m(self, trainer, model)\u001b[0m\n\u001b[0;32m    143\u001b[0m     \u001b[38;5;28mself\u001b[39m\u001b[38;5;241m.\u001b[39mdata \u001b[38;5;241m=\u001b[39m check_det_dataset(\u001b[38;5;28mself\u001b[39m\u001b[38;5;241m.\u001b[39margs\u001b[38;5;241m.\u001b[39mdata)\n\u001b[0;32m    144\u001b[0m \u001b[38;5;28;01melif\u001b[39;00m \u001b[38;5;28mself\u001b[39m\u001b[38;5;241m.\u001b[39margs\u001b[38;5;241m.\u001b[39mtask \u001b[38;5;241m==\u001b[39m \u001b[38;5;124m\"\u001b[39m\u001b[38;5;124mclassify\u001b[39m\u001b[38;5;124m\"\u001b[39m:\n\u001b[1;32m--> 145\u001b[0m     \u001b[38;5;28mself\u001b[39m\u001b[38;5;241m.\u001b[39mdata \u001b[38;5;241m=\u001b[39m \u001b[43mcheck_cls_dataset\u001b[49m\u001b[43m(\u001b[49m\u001b[38;5;28;43mself\u001b[39;49m\u001b[38;5;241;43m.\u001b[39;49m\u001b[43margs\u001b[49m\u001b[38;5;241;43m.\u001b[39;49m\u001b[43mdata\u001b[49m\u001b[43m,\u001b[49m\u001b[43m \u001b[49m\u001b[43msplit\u001b[49m\u001b[38;5;241;43m=\u001b[39;49m\u001b[38;5;28;43mself\u001b[39;49m\u001b[38;5;241;43m.\u001b[39;49m\u001b[43margs\u001b[49m\u001b[38;5;241;43m.\u001b[39;49m\u001b[43msplit\u001b[49m\u001b[43m)\u001b[49m\n\u001b[0;32m    146\u001b[0m \u001b[38;5;28;01melse\u001b[39;00m:\n\u001b[0;32m    147\u001b[0m     \u001b[38;5;28;01mraise\u001b[39;00m \u001b[38;5;167;01mFileNotFoundError\u001b[39;00m(emojis(\u001b[38;5;124mf\u001b[39m\u001b[38;5;124m\"\u001b[39m\u001b[38;5;124mDataset \u001b[39m\u001b[38;5;124m'\u001b[39m\u001b[38;5;132;01m{\u001b[39;00m\u001b[38;5;28mself\u001b[39m\u001b[38;5;241m.\u001b[39margs\u001b[38;5;241m.\u001b[39mdata\u001b[38;5;132;01m}\u001b[39;00m\u001b[38;5;124m'\u001b[39m\u001b[38;5;124m for task=\u001b[39m\u001b[38;5;132;01m{\u001b[39;00m\u001b[38;5;28mself\u001b[39m\u001b[38;5;241m.\u001b[39margs\u001b[38;5;241m.\u001b[39mtask\u001b[38;5;132;01m}\u001b[39;00m\u001b[38;5;124m not found ❌\u001b[39m\u001b[38;5;124m\"\u001b[39m))\n",
      "File \u001b[1;32mc:\\Compilers\\Python\\Lib\\site-packages\\ultralytics\\data\\utils.py:401\u001b[0m, in \u001b[0;36mcheck_cls_dataset\u001b[1;34m(dataset, split)\u001b[0m\n\u001b[0;32m    398\u001b[0m     LOGGER\u001b[38;5;241m.\u001b[39mwarning(\u001b[38;5;124m\"\u001b[39m\u001b[38;5;124mWARNING ⚠️ Dataset \u001b[39m\u001b[38;5;124m'\u001b[39m\u001b[38;5;124msplit=test\u001b[39m\u001b[38;5;124m'\u001b[39m\u001b[38;5;124m not found, using \u001b[39m\u001b[38;5;124m'\u001b[39m\u001b[38;5;124msplit=val\u001b[39m\u001b[38;5;124m'\u001b[39m\u001b[38;5;124m instead.\u001b[39m\u001b[38;5;124m\"\u001b[39m)\n\u001b[0;32m    400\u001b[0m nc \u001b[38;5;241m=\u001b[39m \u001b[38;5;28mlen\u001b[39m([x \u001b[38;5;28;01mfor\u001b[39;00m x \u001b[38;5;129;01min\u001b[39;00m (data_dir \u001b[38;5;241m/\u001b[39m \u001b[38;5;124m\"\u001b[39m\u001b[38;5;124mtrain\u001b[39m\u001b[38;5;124m\"\u001b[39m)\u001b[38;5;241m.\u001b[39mglob(\u001b[38;5;124m\"\u001b[39m\u001b[38;5;124m*\u001b[39m\u001b[38;5;124m\"\u001b[39m) \u001b[38;5;28;01mif\u001b[39;00m x\u001b[38;5;241m.\u001b[39mis_dir()])  \u001b[38;5;66;03m# number of classes\u001b[39;00m\n\u001b[1;32m--> 401\u001b[0m names \u001b[38;5;241m=\u001b[39m \u001b[43m[\u001b[49m\u001b[43mx\u001b[49m\u001b[38;5;241;43m.\u001b[39;49m\u001b[43mname\u001b[49m\u001b[43m \u001b[49m\u001b[38;5;28;43;01mfor\u001b[39;49;00m\u001b[43m \u001b[49m\u001b[43mx\u001b[49m\u001b[43m \u001b[49m\u001b[38;5;129;43;01min\u001b[39;49;00m\u001b[43m \u001b[49m\u001b[43m(\u001b[49m\u001b[43mdata_dir\u001b[49m\u001b[43m \u001b[49m\u001b[38;5;241;43m/\u001b[39;49m\u001b[43m \u001b[49m\u001b[38;5;124;43m\"\u001b[39;49m\u001b[38;5;124;43mtrain\u001b[39;49m\u001b[38;5;124;43m\"\u001b[39;49m\u001b[43m)\u001b[49m\u001b[38;5;241;43m.\u001b[39;49m\u001b[43miterdir\u001b[49m\u001b[43m(\u001b[49m\u001b[43m)\u001b[49m\u001b[43m \u001b[49m\u001b[38;5;28;43;01mif\u001b[39;49;00m\u001b[43m \u001b[49m\u001b[43mx\u001b[49m\u001b[38;5;241;43m.\u001b[39;49m\u001b[43mis_dir\u001b[49m\u001b[43m(\u001b[49m\u001b[43m)\u001b[49m\u001b[43m]\u001b[49m  \u001b[38;5;66;03m# class names list\u001b[39;00m\n\u001b[0;32m    402\u001b[0m names \u001b[38;5;241m=\u001b[39m \u001b[38;5;28mdict\u001b[39m(\u001b[38;5;28menumerate\u001b[39m(\u001b[38;5;28msorted\u001b[39m(names)))\n\u001b[0;32m    404\u001b[0m \u001b[38;5;66;03m# Print to console\u001b[39;00m\n",
      "File \u001b[1;32mc:\\Compilers\\Python\\Lib\\pathlib.py:1056\u001b[0m, in \u001b[0;36mPath.iterdir\u001b[1;34m(self)\u001b[0m\n\u001b[0;32m   1050\u001b[0m \u001b[38;5;28;01mdef\u001b[39;00m \u001b[38;5;21miterdir\u001b[39m(\u001b[38;5;28mself\u001b[39m):\n\u001b[0;32m   1051\u001b[0m \u001b[38;5;250m    \u001b[39m\u001b[38;5;124;03m\"\"\"Yield path objects of the directory contents.\u001b[39;00m\n\u001b[0;32m   1052\u001b[0m \n\u001b[0;32m   1053\u001b[0m \u001b[38;5;124;03m    The children are yielded in arbitrary order, and the\u001b[39;00m\n\u001b[0;32m   1054\u001b[0m \u001b[38;5;124;03m    special entries '.' and '..' are not included.\u001b[39;00m\n\u001b[0;32m   1055\u001b[0m \u001b[38;5;124;03m    \"\"\"\u001b[39;00m\n\u001b[1;32m-> 1056\u001b[0m     \u001b[38;5;28;01mfor\u001b[39;00m name \u001b[38;5;129;01min\u001b[39;00m \u001b[43mos\u001b[49m\u001b[38;5;241;43m.\u001b[39;49m\u001b[43mlistdir\u001b[49m\u001b[43m(\u001b[49m\u001b[38;5;28;43mself\u001b[39;49m\u001b[43m)\u001b[49m:\n\u001b[0;32m   1057\u001b[0m         \u001b[38;5;28;01myield\u001b[39;00m \u001b[38;5;28mself\u001b[39m\u001b[38;5;241m.\u001b[39m_make_child_relpath(name)\n",
      "\u001b[1;31mFileNotFoundError\u001b[0m: [WinError 3] The system cannot find the path specified: 'C:\\\\Users\\\\Dini\\\\Desktop\\\\WebDev\\\\2024\\\\AI-Behavioral-Biometrics-Authentication\\\\datasets\\\\data\\\\classification\\\\train'"
     ]
    }
   ],
   "source": [
    "# Validate the model\n",
    "\n",
    "validation_results = model.val()\n",
    "validation_results.top1\n",
    "validation_results.top5"
   ]
  },
  {
   "cell_type": "code",
   "execution_count": 19,
   "metadata": {},
   "outputs": [
    {
     "name": "stdout",
     "output_type": "stream",
     "text": [
      "\n",
      "image 1/45 c:\\Users\\Dini\\Desktop\\WebDev\\2024\\Unihack-RWS\\backend\\ai\\data\\classification\\test\\empty_garbage\\0-105.jpeg: 256x256 empty_garbage 1.00, full_garbage 0.00, supercharger 0.00, 14.5ms\n",
      "image 2/45 c:\\Users\\Dini\\Desktop\\WebDev\\2024\\Unihack-RWS\\backend\\ai\\data\\classification\\test\\empty_garbage\\0-107.jpeg: 256x256 empty_garbage 1.00, full_garbage 0.00, supercharger 0.00, 18.1ms\n",
      "image 3/45 c:\\Users\\Dini\\Desktop\\WebDev\\2024\\Unihack-RWS\\backend\\ai\\data\\classification\\test\\empty_garbage\\0-108.jpeg: 256x256 empty_garbage 1.00, full_garbage 0.00, supercharger 0.00, 18.0ms\n",
      "image 4/45 c:\\Users\\Dini\\Desktop\\WebDev\\2024\\Unihack-RWS\\backend\\ai\\data\\classification\\test\\empty_garbage\\0-117.jpeg: 256x256 empty_garbage 1.00, full_garbage 0.00, supercharger 0.00, 18.6ms\n",
      "image 5/45 c:\\Users\\Dini\\Desktop\\WebDev\\2024\\Unihack-RWS\\backend\\ai\\data\\classification\\test\\empty_garbage\\0-165.jpeg: 256x256 empty_garbage 1.00, full_garbage 0.00, supercharger 0.00, 22.1ms\n",
      "image 6/45 c:\\Users\\Dini\\Desktop\\WebDev\\2024\\Unihack-RWS\\backend\\ai\\data\\classification\\test\\empty_garbage\\0-181.jpeg: 256x256 empty_garbage 1.00, full_garbage 0.00, supercharger 0.00, 22.6ms\n",
      "image 7/45 c:\\Users\\Dini\\Desktop\\WebDev\\2024\\Unihack-RWS\\backend\\ai\\data\\classification\\test\\empty_garbage\\0-247.jpeg: 256x256 empty_garbage 1.00, full_garbage 0.00, supercharger 0.00, 19.1ms\n",
      "image 8/45 c:\\Users\\Dini\\Desktop\\WebDev\\2024\\Unihack-RWS\\backend\\ai\\data\\classification\\test\\empty_garbage\\0-259.jpeg: 256x256 empty_garbage 1.00, full_garbage 0.00, supercharger 0.00, 20.6ms\n",
      "image 9/45 c:\\Users\\Dini\\Desktop\\WebDev\\2024\\Unihack-RWS\\backend\\ai\\data\\classification\\test\\empty_garbage\\0-283.jpeg: 256x256 empty_garbage 1.00, full_garbage 0.00, supercharger 0.00, 20.1ms\n",
      "image 10/45 c:\\Users\\Dini\\Desktop\\WebDev\\2024\\Unihack-RWS\\backend\\ai\\data\\classification\\test\\empty_garbage\\0-287.jpeg: 256x256 empty_garbage 1.00, full_garbage 0.00, supercharger 0.00, 16.1ms\n",
      "image 11/45 c:\\Users\\Dini\\Desktop\\WebDev\\2024\\Unihack-RWS\\backend\\ai\\data\\classification\\test\\empty_garbage\\0-291.jpeg: 256x256 empty_garbage 1.00, full_garbage 0.00, supercharger 0.00, 17.5ms\n",
      "image 12/45 c:\\Users\\Dini\\Desktop\\WebDev\\2024\\Unihack-RWS\\backend\\ai\\data\\classification\\test\\empty_garbage\\0-296.jpeg: 256x256 empty_garbage 1.00, full_garbage 0.00, supercharger 0.00, 19.2ms\n",
      "image 13/45 c:\\Users\\Dini\\Desktop\\WebDev\\2024\\Unihack-RWS\\backend\\ai\\data\\classification\\test\\empty_garbage\\0-299.jpeg: 256x256 empty_garbage 1.00, full_garbage 0.00, supercharger 0.00, 20.9ms\n",
      "image 14/45 c:\\Users\\Dini\\Desktop\\WebDev\\2024\\Unihack-RWS\\backend\\ai\\data\\classification\\test\\empty_garbage\\0-322.jpg: 256x256 empty_garbage 1.00, full_garbage 0.00, supercharger 0.00, 19.1ms\n",
      "image 15/45 c:\\Users\\Dini\\Desktop\\WebDev\\2024\\Unihack-RWS\\backend\\ai\\data\\classification\\test\\empty_garbage\\0-326.jpg: 256x256 empty_garbage 1.00, full_garbage 0.00, supercharger 0.00, 21.1ms\n",
      "image 16/45 c:\\Users\\Dini\\Desktop\\WebDev\\2024\\Unihack-RWS\\backend\\ai\\data\\classification\\test\\empty_garbage\\0-332.jpg: 256x256 empty_garbage 1.00, full_garbage 0.00, supercharger 0.00, 19.1ms\n",
      "image 17/45 c:\\Users\\Dini\\Desktop\\WebDev\\2024\\Unihack-RWS\\backend\\ai\\data\\classification\\test\\empty_garbage\\0-337.jpg: 256x256 empty_garbage 1.00, full_garbage 0.00, supercharger 0.00, 23.6ms\n",
      "image 18/45 c:\\Users\\Dini\\Desktop\\WebDev\\2024\\Unihack-RWS\\backend\\ai\\data\\classification\\test\\empty_garbage\\0-338.jpg: 256x256 empty_garbage 1.00, full_garbage 0.00, supercharger 0.00, 20.3ms\n",
      "image 19/45 c:\\Users\\Dini\\Desktop\\WebDev\\2024\\Unihack-RWS\\backend\\ai\\data\\classification\\test\\empty_garbage\\0-343.jpg: 256x256 empty_garbage 1.00, full_garbage 0.00, supercharger 0.00, 22.6ms\n",
      "image 20/45 c:\\Users\\Dini\\Desktop\\WebDev\\2024\\Unihack-RWS\\backend\\ai\\data\\classification\\test\\empty_garbage\\0-345.jpg: 256x256 empty_garbage 1.00, full_garbage 0.00, supercharger 0.00, 25.2ms\n",
      "image 21/45 c:\\Users\\Dini\\Desktop\\WebDev\\2024\\Unihack-RWS\\backend\\ai\\data\\classification\\test\\empty_garbage\\0-368.jpg: 256x256 empty_garbage 1.00, full_garbage 0.00, supercharger 0.00, 24.1ms\n",
      "image 22/45 c:\\Users\\Dini\\Desktop\\WebDev\\2024\\Unihack-RWS\\backend\\ai\\data\\classification\\test\\empty_garbage\\0-370.jpg: 256x256 empty_garbage 1.00, full_garbage 0.00, supercharger 0.00, 20.6ms\n",
      "image 23/45 c:\\Users\\Dini\\Desktop\\WebDev\\2024\\Unihack-RWS\\backend\\ai\\data\\classification\\test\\empty_garbage\\0-374.jpg: 256x256 empty_garbage 1.00, full_garbage 0.00, supercharger 0.00, 23.1ms\n",
      "image 24/45 c:\\Users\\Dini\\Desktop\\WebDev\\2024\\Unihack-RWS\\backend\\ai\\data\\classification\\test\\empty_garbage\\0-375.jpg: 256x256 empty_garbage 1.00, full_garbage 0.00, supercharger 0.00, 17.0ms\n",
      "image 25/45 c:\\Users\\Dini\\Desktop\\WebDev\\2024\\Unihack-RWS\\backend\\ai\\data\\classification\\test\\empty_garbage\\0-378.jpg: 256x256 empty_garbage 1.00, full_garbage 0.00, supercharger 0.00, 18.1ms\n",
      "image 26/45 c:\\Users\\Dini\\Desktop\\WebDev\\2024\\Unihack-RWS\\backend\\ai\\data\\classification\\test\\empty_garbage\\0-382.jpg: 256x256 empty_garbage 0.99, full_garbage 0.01, supercharger 0.00, 17.1ms\n",
      "image 27/45 c:\\Users\\Dini\\Desktop\\WebDev\\2024\\Unihack-RWS\\backend\\ai\\data\\classification\\test\\empty_garbage\\0-393.jpg: 256x256 empty_garbage 1.00, full_garbage 0.00, supercharger 0.00, 17.1ms\n",
      "image 28/45 c:\\Users\\Dini\\Desktop\\WebDev\\2024\\Unihack-RWS\\backend\\ai\\data\\classification\\test\\empty_garbage\\0-397.jpg: 256x256 empty_garbage 1.00, full_garbage 0.00, supercharger 0.00, 19.1ms\n",
      "image 29/45 c:\\Users\\Dini\\Desktop\\WebDev\\2024\\Unihack-RWS\\backend\\ai\\data\\classification\\test\\empty_garbage\\0-410.jpg: 256x256 empty_garbage 1.00, full_garbage 0.00, supercharger 0.00, 18.1ms\n",
      "image 30/45 c:\\Users\\Dini\\Desktop\\WebDev\\2024\\Unihack-RWS\\backend\\ai\\data\\classification\\test\\empty_garbage\\0-448.jpg: 256x256 empty_garbage 1.00, full_garbage 0.00, supercharger 0.00, 18.2ms\n",
      "image 31/45 c:\\Users\\Dini\\Desktop\\WebDev\\2024\\Unihack-RWS\\backend\\ai\\data\\classification\\test\\empty_garbage\\0-504.jpg: 256x256 empty_garbage 1.00, full_garbage 0.00, supercharger 0.00, 18.3ms\n",
      "image 32/45 c:\\Users\\Dini\\Desktop\\WebDev\\2024\\Unihack-RWS\\backend\\ai\\data\\classification\\test\\empty_garbage\\0-507.jpg: 256x256 empty_garbage 1.00, full_garbage 0.00, supercharger 0.00, 19.0ms\n",
      "image 33/45 c:\\Users\\Dini\\Desktop\\WebDev\\2024\\Unihack-RWS\\backend\\ai\\data\\classification\\test\\empty_garbage\\0-543.jpg: 256x256 empty_garbage 1.00, full_garbage 0.00, supercharger 0.00, 19.1ms\n",
      "image 34/45 c:\\Users\\Dini\\Desktop\\WebDev\\2024\\Unihack-RWS\\backend\\ai\\data\\classification\\test\\empty_garbage\\0-551.jpg: 256x256 empty_garbage 1.00, full_garbage 0.00, supercharger 0.00, 18.2ms\n",
      "image 35/45 c:\\Users\\Dini\\Desktop\\WebDev\\2024\\Unihack-RWS\\backend\\ai\\data\\classification\\test\\empty_garbage\\0-557.jpg: 256x256 empty_garbage 1.00, full_garbage 0.00, supercharger 0.00, 19.1ms\n",
      "image 36/45 c:\\Users\\Dini\\Desktop\\WebDev\\2024\\Unihack-RWS\\backend\\ai\\data\\classification\\test\\empty_garbage\\0-559.jpg: 256x256 empty_garbage 1.00, full_garbage 0.00, supercharger 0.00, 19.1ms\n",
      "image 37/45 c:\\Users\\Dini\\Desktop\\WebDev\\2024\\Unihack-RWS\\backend\\ai\\data\\classification\\test\\empty_garbage\\0-567.jpg: 256x256 empty_garbage 1.00, full_garbage 0.00, supercharger 0.00, 17.5ms\n",
      "image 38/45 c:\\Users\\Dini\\Desktop\\WebDev\\2024\\Unihack-RWS\\backend\\ai\\data\\classification\\test\\empty_garbage\\0-602.png: 256x256 empty_garbage 1.00, full_garbage 0.00, supercharger 0.00, 19.1ms\n",
      "image 39/45 c:\\Users\\Dini\\Desktop\\WebDev\\2024\\Unihack-RWS\\backend\\ai\\data\\classification\\test\\empty_garbage\\0-642.png: 256x256 empty_garbage 1.00, full_garbage 0.00, supercharger 0.00, 20.1ms\n",
      "image 40/45 c:\\Users\\Dini\\Desktop\\WebDev\\2024\\Unihack-RWS\\backend\\ai\\data\\classification\\test\\empty_garbage\\0-650.png: 256x256 empty_garbage 1.00, full_garbage 0.00, supercharger 0.00, 23.6ms\n",
      "image 41/45 c:\\Users\\Dini\\Desktop\\WebDev\\2024\\Unihack-RWS\\backend\\ai\\data\\classification\\test\\empty_garbage\\0-659.png: 256x256 empty_garbage 1.00, full_garbage 0.00, supercharger 0.00, 20.6ms\n",
      "image 42/45 c:\\Users\\Dini\\Desktop\\WebDev\\2024\\Unihack-RWS\\backend\\ai\\data\\classification\\test\\empty_garbage\\0-673.png: 256x256 empty_garbage 1.00, full_garbage 0.00, supercharger 0.00, 18.1ms\n",
      "image 43/45 c:\\Users\\Dini\\Desktop\\WebDev\\2024\\Unihack-RWS\\backend\\ai\\data\\classification\\test\\empty_garbage\\0-88.jpg: 256x256 empty_garbage 0.95, full_garbage 0.03, supercharger 0.02, 17.6ms\n",
      "image 44/45 c:\\Users\\Dini\\Desktop\\WebDev\\2024\\Unihack-RWS\\backend\\ai\\data\\classification\\test\\empty_garbage\\0-89.jpg: 256x256 empty_garbage 1.00, full_garbage 0.00, supercharger 0.00, 18.1ms\n",
      "image 45/45 c:\\Users\\Dini\\Desktop\\WebDev\\2024\\Unihack-RWS\\backend\\ai\\data\\classification\\test\\empty_garbage\\1-142.jpeg: 256x256 empty_garbage 0.99, full_garbage 0.01, supercharger 0.00, 19.1ms\n",
      "Speed: 43.2ms preprocess, 19.5ms inference, 0.1ms postprocess per image at shape (1, 3, 256, 256)\n",
      "\n",
      "image 1/50 c:\\Users\\Dini\\Desktop\\WebDev\\2024\\Unihack-RWS\\backend\\ai\\data\\classification\\test\\full_garbage\\1-155.jpeg: 256x256 full_garbage 1.00, empty_garbage 0.00, supercharger 0.00, 17.1ms\n",
      "image 2/50 c:\\Users\\Dini\\Desktop\\WebDev\\2024\\Unihack-RWS\\backend\\ai\\data\\classification\\test\\full_garbage\\1-157.jpeg: 256x256 full_garbage 1.00, empty_garbage 0.00, supercharger 0.00, 20.1ms\n",
      "image 3/50 c:\\Users\\Dini\\Desktop\\WebDev\\2024\\Unihack-RWS\\backend\\ai\\data\\classification\\test\\full_garbage\\1-18.jpg: 256x256 full_garbage 1.00, empty_garbage 0.00, supercharger 0.00, 16.5ms\n",
      "image 4/50 c:\\Users\\Dini\\Desktop\\WebDev\\2024\\Unihack-RWS\\backend\\ai\\data\\classification\\test\\full_garbage\\1-195.jpeg: 256x256 full_garbage 1.00, empty_garbage 0.00, supercharger 0.00, 27.0ms\n",
      "image 5/50 c:\\Users\\Dini\\Desktop\\WebDev\\2024\\Unihack-RWS\\backend\\ai\\data\\classification\\test\\full_garbage\\1-204.jpeg: 256x256 full_garbage 1.00, empty_garbage 0.00, supercharger 0.00, 18.5ms\n",
      "image 6/50 c:\\Users\\Dini\\Desktop\\WebDev\\2024\\Unihack-RWS\\backend\\ai\\data\\classification\\test\\full_garbage\\1-215.jpeg: 256x256 full_garbage 1.00, empty_garbage 0.00, supercharger 0.00, 19.1ms\n",
      "image 7/50 c:\\Users\\Dini\\Desktop\\WebDev\\2024\\Unihack-RWS\\backend\\ai\\data\\classification\\test\\full_garbage\\1-219.jpeg: 256x256 full_garbage 1.00, empty_garbage 0.00, supercharger 0.00, 17.1ms\n",
      "image 8/50 c:\\Users\\Dini\\Desktop\\WebDev\\2024\\Unihack-RWS\\backend\\ai\\data\\classification\\test\\full_garbage\\1-225.jpeg: 256x256 full_garbage 1.00, supercharger 0.00, empty_garbage 0.00, 17.1ms\n",
      "image 9/50 c:\\Users\\Dini\\Desktop\\WebDev\\2024\\Unihack-RWS\\backend\\ai\\data\\classification\\test\\full_garbage\\1-232.jpeg: 256x256 full_garbage 1.00, empty_garbage 0.00, supercharger 0.00, 19.1ms\n",
      "image 10/50 c:\\Users\\Dini\\Desktop\\WebDev\\2024\\Unihack-RWS\\backend\\ai\\data\\classification\\test\\full_garbage\\1-234.jpeg: 256x256 full_garbage 1.00, empty_garbage 0.00, supercharger 0.00, 18.6ms\n",
      "image 11/50 c:\\Users\\Dini\\Desktop\\WebDev\\2024\\Unihack-RWS\\backend\\ai\\data\\classification\\test\\full_garbage\\1-276.jpeg: 256x256 full_garbage 1.00, empty_garbage 0.00, supercharger 0.00, 23.6ms\n",
      "image 12/50 c:\\Users\\Dini\\Desktop\\WebDev\\2024\\Unihack-RWS\\backend\\ai\\data\\classification\\test\\full_garbage\\1-279.jpeg: 256x256 full_garbage 1.00, empty_garbage 0.00, supercharger 0.00, 20.6ms\n",
      "image 13/50 c:\\Users\\Dini\\Desktop\\WebDev\\2024\\Unihack-RWS\\backend\\ai\\data\\classification\\test\\full_garbage\\1-281.jpeg: 256x256 full_garbage 1.00, empty_garbage 0.00, supercharger 0.00, 19.9ms\n",
      "image 14/50 c:\\Users\\Dini\\Desktop\\WebDev\\2024\\Unihack-RWS\\backend\\ai\\data\\classification\\test\\full_garbage\\1-310.jpeg: 256x256 full_garbage 1.00, empty_garbage 0.00, supercharger 0.00, 25.4ms\n",
      "image 15/50 c:\\Users\\Dini\\Desktop\\WebDev\\2024\\Unihack-RWS\\backend\\ai\\data\\classification\\test\\full_garbage\\1-401.jpg: 256x256 full_garbage 1.00, empty_garbage 0.00, supercharger 0.00, 17.1ms\n",
      "image 16/50 c:\\Users\\Dini\\Desktop\\WebDev\\2024\\Unihack-RWS\\backend\\ai\\data\\classification\\test\\full_garbage\\1-406.jpg: 256x256 full_garbage 1.00, empty_garbage 0.00, supercharger 0.00, 17.3ms\n",
      "image 17/50 c:\\Users\\Dini\\Desktop\\WebDev\\2024\\Unihack-RWS\\backend\\ai\\data\\classification\\test\\full_garbage\\1-419.jpg: 256x256 full_garbage 1.00, empty_garbage 0.00, supercharger 0.00, 17.7ms\n",
      "image 18/50 c:\\Users\\Dini\\Desktop\\WebDev\\2024\\Unihack-RWS\\backend\\ai\\data\\classification\\test\\full_garbage\\1-42.jpg: 256x256 full_garbage 1.00, empty_garbage 0.00, supercharger 0.00, 17.1ms\n",
      "image 19/50 c:\\Users\\Dini\\Desktop\\WebDev\\2024\\Unihack-RWS\\backend\\ai\\data\\classification\\test\\full_garbage\\1-428.jpg: 256x256 full_garbage 1.00, empty_garbage 0.00, supercharger 0.00, 17.1ms\n",
      "image 20/50 c:\\Users\\Dini\\Desktop\\WebDev\\2024\\Unihack-RWS\\backend\\ai\\data\\classification\\test\\full_garbage\\1-435.jpg: 256x256 full_garbage 1.00, empty_garbage 0.00, supercharger 0.00, 17.1ms\n",
      "image 21/50 c:\\Users\\Dini\\Desktop\\WebDev\\2024\\Unihack-RWS\\backend\\ai\\data\\classification\\test\\full_garbage\\1-436.jpg: 256x256 full_garbage 1.00, empty_garbage 0.00, supercharger 0.00, 18.1ms\n",
      "image 22/50 c:\\Users\\Dini\\Desktop\\WebDev\\2024\\Unihack-RWS\\backend\\ai\\data\\classification\\test\\full_garbage\\1-443.jpg: 256x256 full_garbage 1.00, empty_garbage 0.00, supercharger 0.00, 17.6ms\n",
      "image 23/50 c:\\Users\\Dini\\Desktop\\WebDev\\2024\\Unihack-RWS\\backend\\ai\\data\\classification\\test\\full_garbage\\1-450.jpg: 256x256 full_garbage 1.00, empty_garbage 0.00, supercharger 0.00, 20.0ms\n",
      "image 24/50 c:\\Users\\Dini\\Desktop\\WebDev\\2024\\Unihack-RWS\\backend\\ai\\data\\classification\\test\\full_garbage\\1-456.jpg: 256x256 full_garbage 1.00, empty_garbage 0.00, supercharger 0.00, 22.6ms\n",
      "image 25/50 c:\\Users\\Dini\\Desktop\\WebDev\\2024\\Unihack-RWS\\backend\\ai\\data\\classification\\test\\full_garbage\\1-47.jpg: 256x256 full_garbage 1.00, empty_garbage 0.00, supercharger 0.00, 19.1ms\n",
      "image 26/50 c:\\Users\\Dini\\Desktop\\WebDev\\2024\\Unihack-RWS\\backend\\ai\\data\\classification\\test\\full_garbage\\1-471.jpg: 256x256 full_garbage 1.00, empty_garbage 0.00, supercharger 0.00, 17.4ms\n",
      "image 27/50 c:\\Users\\Dini\\Desktop\\WebDev\\2024\\Unihack-RWS\\backend\\ai\\data\\classification\\test\\full_garbage\\1-479.jpg: 256x256 full_garbage 1.00, empty_garbage 0.00, supercharger 0.00, 18.5ms\n",
      "image 28/50 c:\\Users\\Dini\\Desktop\\WebDev\\2024\\Unihack-RWS\\backend\\ai\\data\\classification\\test\\full_garbage\\1-496.jpg: 256x256 full_garbage 1.00, empty_garbage 0.00, supercharger 0.00, 19.1ms\n",
      "image 29/50 c:\\Users\\Dini\\Desktop\\WebDev\\2024\\Unihack-RWS\\backend\\ai\\data\\classification\\test\\full_garbage\\1-5.jpg: 256x256 full_garbage 1.00, empty_garbage 0.00, supercharger 0.00, 18.6ms\n",
      "image 30/50 c:\\Users\\Dini\\Desktop\\WebDev\\2024\\Unihack-RWS\\backend\\ai\\data\\classification\\test\\full_garbage\\1-502.jpg: 256x256 full_garbage 1.00, empty_garbage 0.00, supercharger 0.00, 19.3ms\n",
      "image 31/50 c:\\Users\\Dini\\Desktop\\WebDev\\2024\\Unihack-RWS\\backend\\ai\\data\\classification\\test\\full_garbage\\1-517.jpg: 256x256 full_garbage 1.00, empty_garbage 0.00, supercharger 0.00, 19.3ms\n",
      "image 32/50 c:\\Users\\Dini\\Desktop\\WebDev\\2024\\Unihack-RWS\\backend\\ai\\data\\classification\\test\\full_garbage\\1-519.jpg: 256x256 full_garbage 1.00, empty_garbage 0.00, supercharger 0.00, 18.1ms\n",
      "image 33/50 c:\\Users\\Dini\\Desktop\\WebDev\\2024\\Unihack-RWS\\backend\\ai\\data\\classification\\test\\full_garbage\\1-522.jpg: 256x256 full_garbage 1.00, empty_garbage 0.00, supercharger 0.00, 19.3ms\n",
      "image 34/50 c:\\Users\\Dini\\Desktop\\WebDev\\2024\\Unihack-RWS\\backend\\ai\\data\\classification\\test\\full_garbage\\1-525.jpg: 256x256 full_garbage 1.00, empty_garbage 0.00, supercharger 0.00, 19.1ms\n",
      "image 35/50 c:\\Users\\Dini\\Desktop\\WebDev\\2024\\Unihack-RWS\\backend\\ai\\data\\classification\\test\\full_garbage\\1-529.jpg: 256x256 full_garbage 1.00, empty_garbage 0.00, supercharger 0.00, 18.6ms\n",
      "image 36/50 c:\\Users\\Dini\\Desktop\\WebDev\\2024\\Unihack-RWS\\backend\\ai\\data\\classification\\test\\full_garbage\\1-592.png: 256x256 full_garbage 1.00, empty_garbage 0.00, supercharger 0.00, 21.1ms\n",
      "image 37/50 c:\\Users\\Dini\\Desktop\\WebDev\\2024\\Unihack-RWS\\backend\\ai\\data\\classification\\test\\full_garbage\\1-595.png: 256x256 full_garbage 1.00, empty_garbage 0.00, supercharger 0.00, 30.6ms\n",
      "image 38/50 c:\\Users\\Dini\\Desktop\\WebDev\\2024\\Unihack-RWS\\backend\\ai\\data\\classification\\test\\full_garbage\\1-6.jpg: 256x256 full_garbage 1.00, empty_garbage 0.00, supercharger 0.00, 19.6ms\n",
      "image 39/50 c:\\Users\\Dini\\Desktop\\WebDev\\2024\\Unihack-RWS\\backend\\ai\\data\\classification\\test\\full_garbage\\1-600.png: 256x256 full_garbage 1.00, empty_garbage 0.00, supercharger 0.00, 19.1ms\n",
      "image 40/50 c:\\Users\\Dini\\Desktop\\WebDev\\2024\\Unihack-RWS\\backend\\ai\\data\\classification\\test\\full_garbage\\1-601.png: 256x256 full_garbage 0.98, empty_garbage 0.02, supercharger 0.00, 22.1ms\n",
      "image 41/50 c:\\Users\\Dini\\Desktop\\WebDev\\2024\\Unihack-RWS\\backend\\ai\\data\\classification\\test\\full_garbage\\1-607.png: 256x256 full_garbage 1.00, empty_garbage 0.00, supercharger 0.00, 18.1ms\n",
      "image 42/50 c:\\Users\\Dini\\Desktop\\WebDev\\2024\\Unihack-RWS\\backend\\ai\\data\\classification\\test\\full_garbage\\1-623.png: 256x256 full_garbage 1.00, empty_garbage 0.00, supercharger 0.00, 17.5ms\n",
      "image 43/50 c:\\Users\\Dini\\Desktop\\WebDev\\2024\\Unihack-RWS\\backend\\ai\\data\\classification\\test\\full_garbage\\1-627.png: 256x256 full_garbage 1.00, empty_garbage 0.00, supercharger 0.00, 20.1ms\n",
      "image 44/50 c:\\Users\\Dini\\Desktop\\WebDev\\2024\\Unihack-RWS\\backend\\ai\\data\\classification\\test\\full_garbage\\1-630.png: 256x256 full_garbage 0.89, empty_garbage 0.11, supercharger 0.00, 18.2ms\n",
      "image 45/50 c:\\Users\\Dini\\Desktop\\WebDev\\2024\\Unihack-RWS\\backend\\ai\\data\\classification\\test\\full_garbage\\1-646.png: 256x256 full_garbage 1.00, empty_garbage 0.00, supercharger 0.00, 19.1ms\n",
      "image 46/50 c:\\Users\\Dini\\Desktop\\WebDev\\2024\\Unihack-RWS\\backend\\ai\\data\\classification\\test\\full_garbage\\1-66.jpg: 256x256 full_garbage 1.00, empty_garbage 0.00, supercharger 0.00, 17.1ms\n",
      "image 47/50 c:\\Users\\Dini\\Desktop\\WebDev\\2024\\Unihack-RWS\\backend\\ai\\data\\classification\\test\\full_garbage\\1-665.png: 256x256 full_garbage 1.00, empty_garbage 0.00, supercharger 0.00, 19.5ms\n",
      "image 48/50 c:\\Users\\Dini\\Desktop\\WebDev\\2024\\Unihack-RWS\\backend\\ai\\data\\classification\\test\\full_garbage\\1-670.png: 256x256 full_garbage 1.00, empty_garbage 0.00, supercharger 0.00, 17.1ms\n",
      "image 49/50 c:\\Users\\Dini\\Desktop\\WebDev\\2024\\Unihack-RWS\\backend\\ai\\data\\classification\\test\\full_garbage\\1-82.jpg: 256x256 full_garbage 1.00, empty_garbage 0.00, supercharger 0.00, 17.6ms\n",
      "image 50/50 c:\\Users\\Dini\\Desktop\\WebDev\\2024\\Unihack-RWS\\backend\\ai\\data\\classification\\test\\full_garbage\\1-97.jpg: 256x256 full_garbage 1.00, empty_garbage 0.00, supercharger 0.00, 17.1ms\n",
      "Speed: 40.5ms preprocess, 19.2ms inference, 0.0ms postprocess per image at shape (1, 3, 256, 256)\n",
      "\n",
      "image 1/9 c:\\Users\\Dini\\Desktop\\WebDev\\2024\\Unihack-RWS\\backend\\ai\\data\\classification\\test\\supercharger\\01.jpeg: 256x256 supercharger 1.00, full_garbage 0.00, empty_garbage 0.00, 18.1ms\n",
      "image 2/9 c:\\Users\\Dini\\Desktop\\WebDev\\2024\\Unihack-RWS\\backend\\ai\\data\\classification\\test\\supercharger\\03.jpg: 256x256 supercharger 0.98, full_garbage 0.01, empty_garbage 0.01, 17.5ms\n",
      "image 3/9 c:\\Users\\Dini\\Desktop\\WebDev\\2024\\Unihack-RWS\\backend\\ai\\data\\classification\\test\\supercharger\\04.jpg: 256x256 supercharger 0.78, full_garbage 0.14, empty_garbage 0.08, 18.1ms\n",
      "image 4/9 c:\\Users\\Dini\\Desktop\\WebDev\\2024\\Unihack-RWS\\backend\\ai\\data\\classification\\test\\supercharger\\05.jpg: 256x256 supercharger 1.00, full_garbage 0.00, empty_garbage 0.00, 17.6ms\n",
      "image 5/9 c:\\Users\\Dini\\Desktop\\WebDev\\2024\\Unihack-RWS\\backend\\ai\\data\\classification\\test\\supercharger\\11.png: 256x256 supercharger 1.00, full_garbage 0.00, empty_garbage 0.00, 18.6ms\n",
      "image 6/9 c:\\Users\\Dini\\Desktop\\WebDev\\2024\\Unihack-RWS\\backend\\ai\\data\\classification\\test\\supercharger\\13.jpeg: 256x256 supercharger 1.00, full_garbage 0.00, empty_garbage 0.00, 17.1ms\n",
      "image 7/9 c:\\Users\\Dini\\Desktop\\WebDev\\2024\\Unihack-RWS\\backend\\ai\\data\\classification\\test\\supercharger\\14.jpg: 256x256 supercharger 0.99, full_garbage 0.01, empty_garbage 0.00, 18.0ms\n",
      "image 8/9 c:\\Users\\Dini\\Desktop\\WebDev\\2024\\Unihack-RWS\\backend\\ai\\data\\classification\\test\\supercharger\\16.jpg: 256x256 supercharger 1.00, full_garbage 0.00, empty_garbage 0.00, 23.1ms\n",
      "image 9/9 c:\\Users\\Dini\\Desktop\\WebDev\\2024\\Unihack-RWS\\backend\\ai\\data\\classification\\test\\supercharger\\18.jpg: 256x256 supercharger 1.00, full_garbage 0.00, empty_garbage 0.00, 18.0ms\n",
      "Speed: 15.2ms preprocess, 18.5ms inference, 0.0ms postprocess per image at shape (1, 3, 256, 256)\n"
     ]
    }
   ],
   "source": [
    "# Predictions\n",
    "\n",
    "list_of_predicted_results = []\n",
    "list_of_actual_results = []\n",
    "\n",
    "for file in os.listdir(TEST_DATA_PATH):\n",
    "    results = model(os.path.join(TEST_DATA_PATH, file))\n",
    "    for result in results:\n",
    "        list_of_predicted_results.append(result)\n",
    "        list_of_actual_results.append(file)"
   ]
  },
  {
   "cell_type": "code",
   "execution_count": 20,
   "metadata": {},
   "outputs": [
    {
     "name": "stdout",
     "output_type": "stream",
     "text": [
      "1.0\n"
     ]
    }
   ],
   "source": [
    "# prediction accuracy\n",
    "\n",
    "correct_answers = []\n",
    "index = 0\n",
    "for result in list_of_predicted_results:\n",
    "    top1_person = result.probs.top1\n",
    "    top1_person_name = result.names[top1_person]\n",
    "\n",
    "    if top1_person_name == list_of_actual_results[index]:\n",
    "        correct_answers.append(1)\n",
    "\n",
    "    index += 1\n",
    "\n",
    "accuracy = len(correct_answers) / len(list_of_predicted_results)\n",
    "\n",
    "print(accuracy)"
   ]
  },
  {
   "cell_type": "code",
   "execution_count": 29,
   "metadata": {},
   "outputs": [
    {
     "name": "stdout",
     "output_type": "stream",
     "text": [
      "WARNING  'source' is missing. Using 'source=C:\\Compilers\\Python\\Lib\\site-packages\\ultralytics\\assets'.\n",
      "\n",
      "image 1/2 C:\\Compilers\\Python\\Lib\\site-packages\\ultralytics\\assets\\bus.jpg: 256x256 supercharger 0.74, full_garbage 0.18, empty_garbage 0.08, 22.6ms\n",
      "image 2/2 C:\\Compilers\\Python\\Lib\\site-packages\\ultralytics\\assets\\zidane.jpg: 256x256 full_garbage 0.94, empty_garbage 0.05, supercharger 0.01, 21.8ms\n",
      "Speed: 20.1ms preprocess, 22.2ms inference, 0.0ms postprocess per image at shape (1, 3, 256, 256)\n",
      "False\n"
     ]
    }
   ],
   "source": [
    "model = YOLO('best.pt')\n",
    "\n",
    "# Decode the base64 string to a numpy array\n",
    "image_data = base64.b64decode(\"data:image/jpeg;base64,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\")\n",
    "np_array = np.frombuffer(image_data, np.uint8)\n",
    "image = cv2.imdecode(np_array, cv2.IMREAD_COLOR)\n",
    "\n",
    "# Run the trained model on the decoded image\n",
    "results = model(image)\n",
    "\n",
    "top1 = results[0].probs.top1\n",
    "top1_name = results[0].names[top1]\n",
    "\n",
    "print(top1_name == 'empty_garbage')"
   ]
  }
 ],
 "metadata": {
  "kernelspec": {
   "display_name": "Python 3",
   "language": "python",
   "name": "python3"
  },
  "language_info": {
   "codemirror_mode": {
    "name": "ipython",
    "version": 3
   },
   "file_extension": ".py",
   "mimetype": "text/x-python",
   "name": "python",
   "nbconvert_exporter": "python",
   "pygments_lexer": "ipython3",
   "version": "3.12.5"
  }
 },
 "nbformat": 4,
 "nbformat_minor": 2
}
