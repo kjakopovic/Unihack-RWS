{
 "cells": [
  {
   "cell_type": "markdown",
   "metadata": {},
   "source": [
    "Load dependencies"
   ]
  },
  {
   "cell_type": "code",
   "execution_count": 1,
   "metadata": {
    "ExecuteTime": {
     "end_time": "2024-11-08T19:51:28.255620Z",
     "start_time": "2024-11-08T19:51:27.285646Z"
    }
   },
   "outputs": [],
   "source": [
    "import pandas as pd"
   ]
  },
  {
   "cell_type": "markdown",
   "metadata": {},
   "source": [
    "Loading data"
   ]
  },
  {
   "cell_type": "code",
   "execution_count": 15,
   "metadata": {
    "ExecuteTime": {
     "end_time": "2024-11-08T19:51:53.451437Z",
     "start_time": "2024-11-08T19:51:53.443564Z"
    }
   },
   "outputs": [
    {
     "data": {
      "text/html": [
       "<div>\n",
       "<style scoped>\n",
       "    .dataframe tbody tr th:only-of-type {\n",
       "        vertical-align: middle;\n",
       "    }\n",
       "\n",
       "    .dataframe tbody tr th {\n",
       "        vertical-align: top;\n",
       "    }\n",
       "\n",
       "    .dataframe thead th {\n",
       "        text-align: right;\n",
       "    }\n",
       "</style>\n",
       "<table border=\"1\" class=\"dataframe\">\n",
       "  <thead>\n",
       "    <tr style=\"text-align: right;\">\n",
       "      <th></th>\n",
       "      <th>Supercharger</th>\n",
       "      <th>Street Address</th>\n",
       "      <th>City</th>\n",
       "      <th>State</th>\n",
       "      <th>Zip</th>\n",
       "      <th>Country</th>\n",
       "      <th>Stalls</th>\n",
       "      <th>kW</th>\n",
       "      <th>GPS</th>\n",
       "      <th>Elev(m)</th>\n",
       "      <th>Open Date</th>\n",
       "      <th>Unnamed: 11</th>\n",
       "    </tr>\n",
       "  </thead>\n",
       "  <tbody>\n",
       "    <tr>\n",
       "      <th>2699</th>\n",
       "      <td>Timi?oara, Romania</td>\n",
       "      <td>Bulevardul Revolu?iei din 1989 2A</td>\n",
       "      <td>Timisoara</td>\n",
       "      <td>Vest</td>\n",
       "      <td>300085</td>\n",
       "      <td>Romania</td>\n",
       "      <td>6</td>\n",
       "      <td>250.0</td>\n",
       "      <td>45.755123, 21.233001</td>\n",
       "      <td>90</td>\n",
       "      <td>4/14/2021</td>\n",
       "      <td>NaN</td>\n",
       "    </tr>\n",
       "  </tbody>\n",
       "</table>\n",
       "</div>"
      ],
      "text/plain": [
       "            Supercharger                     Street Address       City State  \\\n",
       "2699  Timi?oara, Romania  Bulevardul Revolu?iei din 1989 2A  Timisoara  Vest   \n",
       "\n",
       "         Zip  Country  Stalls     kW                   GPS  Elev(m)  \\\n",
       "2699  300085  Romania       6  250.0  45.755123, 21.233001       90   \n",
       "\n",
       "      Open Date  Unnamed: 11  \n",
       "2699  4/14/2021          NaN  "
      ]
     },
     "execution_count": 15,
     "metadata": {},
     "output_type": "execute_result"
    }
   ],
   "source": [
    "csv = pd.read_csv('data/supercharge_locations.csv', encoding='ISO-8859-1')\n",
    "\n",
    "csv['City'] = csv['City'].str.replace('Timi?oara', 'Timisoara')\n",
    "\n",
    "croatia_chargers = csv[csv['City'] == 'Timisoara']\n",
    "\n",
    "croatia_chargers.head()"
   ]
  }
 ],
 "metadata": {
  "kernelspec": {
   "display_name": "Python 3",
   "language": "python",
   "name": "python3"
  },
  "language_info": {
   "codemirror_mode": {
    "name": "ipython",
    "version": 3
   },
   "file_extension": ".py",
   "mimetype": "text/x-python",
   "name": "python",
   "nbconvert_exporter": "python",
   "pygments_lexer": "ipython3",
   "version": "3.12.5"
  }
 },
 "nbformat": 4,
 "nbformat_minor": 2
}
