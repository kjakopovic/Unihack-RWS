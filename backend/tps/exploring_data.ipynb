{
 "cells": [
  {
   "cell_type": "markdown",
   "metadata": {},
   "source": [
    "Load dependencies"
   ]
  },
  {
   "cell_type": "code",
   "execution_count": 2,
   "metadata": {
    "ExecuteTime": {
     "end_time": "2024-11-08T19:51:28.255620Z",
     "start_time": "2024-11-08T19:51:27.285646Z"
    }
   },
   "outputs": [],
   "source": [
    "import pandas as pd"
   ]
  },
  {
   "cell_type": "markdown",
   "metadata": {},
   "source": [
    "Loading data"
   ]
  },
  {
   "cell_type": "code",
   "execution_count": null,
   "metadata": {
    "ExecuteTime": {
     "end_time": "2024-11-08T19:51:53.451437Z",
     "start_time": "2024-11-08T19:51:53.443564Z"
    }
   },
   "outputs": [
    {
     "name": "stderr",
     "output_type": "stream",
     "text": [
      "C:\\Users\\Dini\\AppData\\Local\\Temp\\ipykernel_12860\\3947233540.py:17: SettingWithCopyWarning: \n",
      "A value is trying to be set on a copy of a slice from a DataFrame.\n",
      "Try using .loc[row_indexer,col_indexer] = value instead\n",
      "\n",
      "See the caveats in the documentation: https://pandas.pydata.org/pandas-docs/stable/user_guide/indexing.html#returning-a-view-versus-a-copy\n",
      "  chargers['longitude'] = chargers['GPS'].apply(convert_to_longitude)\n",
      "C:\\Users\\Dini\\AppData\\Local\\Temp\\ipykernel_12860\\3947233540.py:18: SettingWithCopyWarning: \n",
      "A value is trying to be set on a copy of a slice from a DataFrame.\n",
      "Try using .loc[row_indexer,col_indexer] = value instead\n",
      "\n",
      "See the caveats in the documentation: https://pandas.pydata.org/pandas-docs/stable/user_guide/indexing.html#returning-a-view-versus-a-copy\n",
      "  chargers['latitude'] = chargers['GPS'].apply(convert_to_latitude)\n"
     ]
    },
    {
     "data": {
      "text/html": [
       "<div>\n",
       "<style scoped>\n",
       "    .dataframe tbody tr th:only-of-type {\n",
       "        vertical-align: middle;\n",
       "    }\n",
       "\n",
       "    .dataframe tbody tr th {\n",
       "        vertical-align: top;\n",
       "    }\n",
       "\n",
       "    .dataframe thead th {\n",
       "        text-align: right;\n",
       "    }\n",
       "</style>\n",
       "<table border=\"1\" class=\"dataframe\">\n",
       "  <thead>\n",
       "    <tr style=\"text-align: right;\">\n",
       "      <th></th>\n",
       "      <th>Supercharger</th>\n",
       "      <th>longitude</th>\n",
       "      <th>latitude</th>\n",
       "    </tr>\n",
       "  </thead>\n",
       "  <tbody>\n",
       "    <tr>\n",
       "      <th>16</th>\n",
       "      <td>Renovatio e-charge</td>\n",
       "      <td>45.742771</td>\n",
       "      <td>21.220273</td>\n",
       "    </tr>\n",
       "    <tr>\n",
       "      <th>17</th>\n",
       "      <td>Enel X Charging Station</td>\n",
       "      <td>45.735295</td>\n",
       "      <td>21.255523</td>\n",
       "    </tr>\n",
       "    <tr>\n",
       "      <th>18</th>\n",
       "      <td>Eldrive Charging Station</td>\n",
       "      <td>45.749449</td>\n",
       "      <td>21.244189</td>\n",
       "    </tr>\n",
       "    <tr>\n",
       "      <th>19</th>\n",
       "      <td>Tesla Supercharger</td>\n",
       "      <td>45.755906</td>\n",
       "      <td>21.233446</td>\n",
       "    </tr>\n",
       "    <tr>\n",
       "      <th>20</th>\n",
       "      <td>CIVITRONIC SRL Charging Station</td>\n",
       "      <td>45.758957</td>\n",
       "      <td>21.225683</td>\n",
       "    </tr>\n",
       "  </tbody>\n",
       "</table>\n",
       "</div>"
      ],
      "text/plain": [
       "                       Supercharger  longitude   latitude\n",
       "16               Renovatio e-charge  45.742771  21.220273\n",
       "17          Enel X Charging Station  45.735295  21.255523\n",
       "18         Eldrive Charging Station  45.749449  21.244189\n",
       "19               Tesla Supercharger  45.755906  21.233446\n",
       "20  CIVITRONIC SRL Charging Station  45.758957  21.225683"
      ]
     },
     "execution_count": 12,
     "metadata": {},
     "output_type": "execute_result"
    }
   ],
   "source": [
    "csv = pd.read_csv('data/supercharge_locations.csv', encoding='ISO-8859-1')\n",
    "\n",
    "csv['City'] = csv['City'].str.replace('Timi?oara', 'Timisoara')\n",
    "\n",
    "chargers = csv[csv['City'] == 'Timisoara']\n",
    "\n",
    "def convert_to_longitude(gps):\n",
    "    long_lat = gps.split(', ')\n",
    "    long = float(long_lat[0])\n",
    "    return long\n",
    "\n",
    "def convert_to_latitude(gps):\n",
    "    long_lat = gps.split(', ')\n",
    "    lat = float(long_lat[1])\n",
    "    return lat\n",
    "\n",
    "chargers['longitude'] = chargers['GPS'].apply(convert_to_longitude)\n",
    "chargers['latitude'] = chargers['GPS'].apply(convert_to_latitude)\n",
    "\n",
    "chargers = chargers.drop([\n",
    "    'Street Address', \n",
    "    'City', \n",
    "    'State', \n",
    "    'Zip', \n",
    "    'Country', \n",
    "    'Stalls', \n",
    "    'kW', \n",
    "    'GPS', \n",
    "    'Elev(m)', \n",
    "    'Open Date', \n",
    "    'Unnamed: 11'\n",
    "], axis=1)\n",
    "\n",
    "chargers.head()"
   ]
  }
 ],
 "metadata": {
  "kernelspec": {
   "display_name": "Python 3",
   "language": "python",
   "name": "python3"
  },
  "language_info": {
   "codemirror_mode": {
    "name": "ipython",
    "version": 3
   },
   "file_extension": ".py",
   "mimetype": "text/x-python",
   "name": "python",
   "nbconvert_exporter": "python",
   "pygments_lexer": "ipython3",
   "version": "3.12.5"
  }
 },
 "nbformat": 4,
 "nbformat_minor": 2
}
